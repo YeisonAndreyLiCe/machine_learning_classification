{
 "cells": [
  {
   "cell_type": "markdown",
   "id": "ff700cfe-1691-4c2f-98ee-cd91cf7f5364",
   "metadata": {
    "tags": []
   },
   "source": [
    "# Recommendation Engine  \n",
    ">Online judges provide a platform where many users solve problems everyday to improve their programming skills. The users can be beginners or experts in competitive programming. Some users might be good at solving specific category of problems(e.g. Greedy, Graph algorithms, Dynamic Programming etc.) while others may be beginners in the same. There can be patterns to everything, and the goal of the machine learning would be to identify these patterns and model user’s behaviour from these patterns. The goal of this challenge is to predict range of attempts a user will make to solve a given problem given user and problem details. Finding these patterns can help the programming committee, as it will help them to suggest relevant problems to solve and provide hints automatically on which users can get stuck.  \n",
    "\n",
    "## Objective\n",
    "> **The goal of this challenge is to predict range of attempts a user will make to solve a given problem given user and problem details**.\n",
    "\n",
    "attempts_range| No. of attempts lies inside\n",
    "---- | ----\n",
    "1 | 1-1\n",
    "2 | 2-3\n",
    "3 | 4-5\n",
    "4 | 6-7\n",
    "5 | 8-9\n",
    "6 |>=10\n",
    "\n",
    "### source: [Analutics Vidhya](https://datahack.analyticsvidhya.com/contest/practice-problem-recommendation-engine/#ProblemStatement)\n",
    "\n",
    "- This is a problem classification.\n",
    "- 13 features\n",
    "- 155295 rows\n",
    "- Challenges: concatenate information, reducing information, missing values. \n",
    "\n"
   ]
  },
  {
   "cell_type": "markdown",
   "id": "aacae885-7dd8-4760-bc87-ea9ae64ee5d4",
   "metadata": {},
   "source": [
    "## Importing libraries and modules"
   ]
  },
  {
   "cell_type": "code",
   "execution_count": 1,
   "id": "4d1224c9-3025-4c5c-b21a-c82b4832deec",
   "metadata": {},
   "outputs": [],
   "source": [
    "#%conda install -c conda-forge upsetplot"
   ]
  },
  {
   "cell_type": "code",
   "execution_count": 2,
   "id": "55c5da57-82c5-4b46-8d7b-242eb30902f9",
   "metadata": {
    "tags": []
   },
   "outputs": [],
   "source": [
    "%run missing_values.ipynb #charging a local module"
   ]
  },
  {
   "cell_type": "code",
   "execution_count": null,
   "id": "d0f23bdd-6369-44ce-a1a0-952abe4d329a",
   "metadata": {},
   "outputs": [],
   "source": [
    "import pandas as pd\n",
    "import numpy as np\n",
    "from sklearn.compose import make_column_selector"
   ]
  },
  {
   "cell_type": "markdown",
   "id": "5d5ceec7-48af-4fc0-8df0-c3062a314230",
   "metadata": {},
   "source": [
    "Several datasets were given let's check our first dataset."
   ]
  },
  {
   "cell_type": "markdown",
   "id": "9bbe37cf-256d-43d3-8934-28b5f24503ae",
   "metadata": {},
   "source": [
    "## Data of the problems (rows= 6544, cols= 4)\n",
    "\n",
    "problem_data.csv - This is the file containing data of the problems. It contains the following features :\n",
    "key | values\n",
    "----|----\n",
    "problem_id | unique ID assigned to each problem\n",
    "level_id | the difficulty level of the problem between ‘A’ to ‘N’\n",
    "points | amount of points for the problem\n",
    "tags | problem tag(s) like greedy, graphs, DFS etc."
   ]
  },
  {
   "cell_type": "code",
   "execution_count": 4,
   "id": "5048a2b9-85a9-4d7b-882b-c7812aa64788",
   "metadata": {},
   "outputs": [
    {
     "data": {
      "text/html": [
       "<div>\n",
       "<style scoped>\n",
       "    .dataframe tbody tr th:only-of-type {\n",
       "        vertical-align: middle;\n",
       "    }\n",
       "\n",
       "    .dataframe tbody tr th {\n",
       "        vertical-align: top;\n",
       "    }\n",
       "\n",
       "    .dataframe thead th {\n",
       "        text-align: right;\n",
       "    }\n",
       "</style>\n",
       "<table border=\"1\" class=\"dataframe\">\n",
       "  <thead>\n",
       "    <tr style=\"text-align: right;\">\n",
       "      <th></th>\n",
       "      <th>problem_id</th>\n",
       "      <th>level_type</th>\n",
       "      <th>points</th>\n",
       "      <th>tags</th>\n",
       "    </tr>\n",
       "  </thead>\n",
       "  <tbody>\n",
       "    <tr>\n",
       "      <th>0</th>\n",
       "      <td>prob_3649</td>\n",
       "      <td>H</td>\n",
       "      <td>NaN</td>\n",
       "      <td>NaN</td>\n",
       "    </tr>\n",
       "    <tr>\n",
       "      <th>1</th>\n",
       "      <td>prob_6191</td>\n",
       "      <td>A</td>\n",
       "      <td>NaN</td>\n",
       "      <td>NaN</td>\n",
       "    </tr>\n",
       "    <tr>\n",
       "      <th>2</th>\n",
       "      <td>prob_2020</td>\n",
       "      <td>F</td>\n",
       "      <td>NaN</td>\n",
       "      <td>NaN</td>\n",
       "    </tr>\n",
       "    <tr>\n",
       "      <th>3</th>\n",
       "      <td>prob_313</td>\n",
       "      <td>A</td>\n",
       "      <td>500.0</td>\n",
       "      <td>greedy,implementation</td>\n",
       "    </tr>\n",
       "    <tr>\n",
       "      <th>4</th>\n",
       "      <td>prob_101</td>\n",
       "      <td>A</td>\n",
       "      <td>500.0</td>\n",
       "      <td>constructive algorithms,greedy,math</td>\n",
       "    </tr>\n",
       "  </tbody>\n",
       "</table>\n",
       "</div>"
      ],
      "text/plain": [
       "  problem_id level_type  points                                 tags\n",
       "0  prob_3649          H     NaN                                  NaN\n",
       "1  prob_6191          A     NaN                                  NaN\n",
       "2  prob_2020          F     NaN                                  NaN\n",
       "3   prob_313          A   500.0                greedy,implementation\n",
       "4   prob_101          A   500.0  constructive algorithms,greedy,math"
      ]
     },
     "execution_count": 4,
     "metadata": {},
     "output_type": "execute_result"
    }
   ],
   "source": [
    "problems_df = pd.read_csv(\"../data/raw/train/problem_data.csv\")\n",
    "problems_df.head()"
   ]
  },
  {
   "cell_type": "code",
   "execution_count": 5,
   "id": "38f3fabb-f01b-4752-9e2f-8b85ed24ffcd",
   "metadata": {},
   "outputs": [
    {
     "name": "stdout",
     "output_type": "stream",
     "text": [
      "<class 'pandas.core.frame.DataFrame'>\n",
      "RangeIndex: 6544 entries, 0 to 6543\n",
      "Data columns (total 4 columns):\n",
      " #   Column      Non-Null Count  Dtype  \n",
      "---  ------      --------------  -----  \n",
      " 0   problem_id  6544 non-null   object \n",
      " 1   level_type  6411 non-null   object \n",
      " 2   points      2627 non-null   float64\n",
      " 3   tags        3060 non-null   object \n",
      "dtypes: float64(1), object(3)\n",
      "memory usage: 204.6+ KB\n"
     ]
    }
   ],
   "source": [
    "problems_df.info()"
   ]
  },
  {
   "cell_type": "code",
   "execution_count": 128,
   "id": "3d118edf-89a2-4c4c-aabe-572f76f4577a",
   "metadata": {
    "tags": []
   },
   "outputs": [
    {
     "name": "stdout",
     "output_type": "stream",
     "text": [
      "****** problem_id ----6544----['prob_3649' 'prob_6191' 'prob_2020' ... 'prob_3269' 'prob_5071'\n",
      " 'prob_1124'] ****\n",
      "****** level_type ----15----['H' 'A' 'F' 'E' 'B' 'D' 'C' 'K' 'I' nan 'G' 'J' 'M' 'L' 'N'] ****\n",
      "****** points ----31----[      nan  5.00e+02  5.00e+00  1.00e+03  2.00e+03  1.50e+03  2.75e+03\n",
      "  1.75e+03  2.50e+03  8.00e+00  7.50e+02  2.25e+03  3.00e+03  1.25e+03\n",
      "  1.00e+01 -1.00e+00  2.50e+02  5.00e+03  3.25e+03  4.00e+01  6.00e+01\n",
      "  3.50e+03  3.00e+00  2.00e+01  4.00e+00  3.00e+01  1.20e+01  5.00e+01\n",
      "  7.00e+01  6.00e+00  1.10e+01] ****\n"
     ]
    }
   ],
   "source": [
    "#problems_df_cat_columns_ = make_column_selector(dtype_include=\"object\")(problems_df)\n",
    "_ = problems_df.apply(lambda x: print(f\"****** {x.name} ----{len(x.unique())}----{x.unique()} ****\"))"
   ]
  },
  {
   "cell_type": "code",
   "execution_count": 148,
   "id": "cd631605-3d66-4f66-8ccd-f06afcbe840d",
   "metadata": {},
   "outputs": [
    {
     "name": "stdout",
     "output_type": "stream",
     "text": [
      "\n",
      "points min: -1.0--max: 5000.0 --  500.0     561\n",
      " 1000.0    547\n",
      " 1500.0    433\n",
      " 2000.0    372\n",
      " 2500.0    347\n",
      " 3000.0    107\n",
      " 1750.0     50\n",
      " 2250.0     49\n",
      " 1250.0     39\n",
      " 750.0      33\n",
      " 2750.0     22\n",
      " 3500.0     14\n",
      " 250.0      12\n",
      " 30.0        7\n",
      " 3250.0      5\n",
      " 3.0         4\n",
      " 70.0        4\n",
      " 8.0         3\n",
      " 50.0        3\n",
      " 10.0        3\n",
      " 4.0         2\n",
      " 40.0        2\n",
      " 60.0        1\n",
      "-1.0         1\n",
      " 20.0        1\n",
      " 12.0        1\n",
      " 5000.0      1\n",
      " 5.0         1\n",
      " 6.0         1\n",
      " 11.0        1\n",
      "Name: points, dtype: int64\n"
     ]
    }
   ],
   "source": [
    "problems_df_num_columns= make_column_selector(dtype_include=\"number\")(problems_df)\n",
    "_ = problems_df[problems_df_num_columns].apply(lambda x: print(f\"\\n{x.name} min: {x.min()}--max: {x.max()} -- {x.value_counts()}\"))"
   ]
  },
  {
   "cell_type": "markdown",
   "id": "64a14c31-1307-46e6-9c4d-a6eafe7da911",
   "metadata": {},
   "source": [
    "There is a value of -1 let's change that value to 1"
   ]
  },
  {
   "cell_type": "code",
   "execution_count": 152,
   "id": "d5a36912-5978-4f41-b64b-113f2c755002",
   "metadata": {},
   "outputs": [
    {
     "name": "stdout",
     "output_type": "stream",
     "text": [
      "\n",
      "points min: 1.0--max: 5000.0\n"
     ]
    }
   ],
   "source": [
    "problems_df[\"points\"].replace(-1,1,inplace=True)\n",
    "_ = problems_df[problems_df_num_columns].apply(lambda x: print(f\"\\n{x.name} min: {x.min()}--max: {x.max()}\"))"
   ]
  },
  {
   "cell_type": "markdown",
   "id": "82cfcaac-ac9e-42e8-bc65-d7997474a054",
   "metadata": {},
   "source": [
    "The columns tags seems not to be useful for the analysis, so it will be deleted. Additionally the difficulty of the problem is given by the column level_type, the columns points could be deleted."
   ]
  },
  {
   "cell_type": "code",
   "execution_count": 6,
   "id": "803dfdd4-93ac-4cb8-a9fa-94b66b0ee836",
   "metadata": {},
   "outputs": [],
   "source": [
    "problems_df.drop(columns=[\"tags\"], inplace=True)"
   ]
  },
  {
   "cell_type": "markdown",
   "id": "c0caca34-a80c-436a-ad3b-5ad982142c45",
   "metadata": {},
   "source": [
    "#### checking missing values in the column level_type"
   ]
  },
  {
   "cell_type": "code",
   "execution_count": 153,
   "id": "b23fc993-6968-4e8f-be53-60b5a08c961c",
   "metadata": {},
   "outputs": [
    {
     "data": {
      "text/plain": [
       "15582"
      ]
     },
     "execution_count": 153,
     "metadata": {},
     "output_type": "execute_result"
    }
   ],
   "source": [
    "problems_df.missing.number_complete() # number of completed values"
   ]
  },
  {
   "cell_type": "code",
   "execution_count": 121,
   "id": "f1723493-d73d-4375-93d7-5aa236616593",
   "metadata": {},
   "outputs": [
    {
     "data": {
      "text/plain": [
       "4050"
      ]
     },
     "execution_count": 121,
     "metadata": {},
     "output_type": "execute_result"
    }
   ],
   "source": [
    "problems_df.missing.number_missing() # number of missing values"
   ]
  },
  {
   "cell_type": "code",
   "execution_count": 122,
   "id": "37954512-466d-491f-9c31-c2621b29657b",
   "metadata": {},
   "outputs": [
    {
     "data": {
      "text/html": [
       "<div>\n",
       "<style scoped>\n",
       "    .dataframe tbody tr th:only-of-type {\n",
       "        vertical-align: middle;\n",
       "    }\n",
       "\n",
       "    .dataframe tbody tr th {\n",
       "        vertical-align: top;\n",
       "    }\n",
       "\n",
       "    .dataframe thead th {\n",
       "        text-align: right;\n",
       "    }\n",
       "</style>\n",
       "<table border=\"1\" class=\"dataframe\">\n",
       "  <thead>\n",
       "    <tr style=\"text-align: right;\">\n",
       "      <th></th>\n",
       "      <th>variable</th>\n",
       "      <th>n_missing</th>\n",
       "      <th>n_cases</th>\n",
       "      <th>pct_missing</th>\n",
       "    </tr>\n",
       "  </thead>\n",
       "  <tbody>\n",
       "    <tr>\n",
       "      <th>0</th>\n",
       "      <td>problem_id</td>\n",
       "      <td>0</td>\n",
       "      <td>6544</td>\n",
       "      <td>0.000000</td>\n",
       "    </tr>\n",
       "    <tr>\n",
       "      <th>1</th>\n",
       "      <td>level_type</td>\n",
       "      <td>133</td>\n",
       "      <td>6544</td>\n",
       "      <td>2.032396</td>\n",
       "    </tr>\n",
       "    <tr>\n",
       "      <th>2</th>\n",
       "      <td>points</td>\n",
       "      <td>3917</td>\n",
       "      <td>6544</td>\n",
       "      <td>59.856357</td>\n",
       "    </tr>\n",
       "  </tbody>\n",
       "</table>\n",
       "</div>"
      ],
      "text/plain": [
       "     variable  n_missing  n_cases  pct_missing\n",
       "0  problem_id          0     6544     0.000000\n",
       "1  level_type        133     6544     2.032396\n",
       "2      points       3917     6544    59.856357"
      ]
     },
     "execution_count": 122,
     "metadata": {},
     "output_type": "execute_result"
    }
   ],
   "source": [
    "problems_df.missing.missing_variable_summary()"
   ]
  },
  {
   "cell_type": "markdown",
   "id": "affc8a3a-921d-49f2-8501-37133fdfae4c",
   "metadata": {},
   "source": [
    "There is an 2% of missing values in the column points\t"
   ]
  },
  {
   "cell_type": "code",
   "execution_count": 123,
   "id": "26ccb190-0720-4952-b9c2-c00f3d1b6db8",
   "metadata": {},
   "outputs": [],
   "source": [
    "rows_with_missing_values = problems_df.missing.missing_case_summary()"
   ]
  },
  {
   "cell_type": "code",
   "execution_count": 124,
   "id": "dfda878c-468e-4b93-bb15-a5a257a2224b",
   "metadata": {},
   "outputs": [
    {
     "data": {
      "text/html": [
       "<div>\n",
       "<style scoped>\n",
       "    .dataframe tbody tr th:only-of-type {\n",
       "        vertical-align: middle;\n",
       "    }\n",
       "\n",
       "    .dataframe tbody tr th {\n",
       "        vertical-align: top;\n",
       "    }\n",
       "\n",
       "    .dataframe thead th {\n",
       "        text-align: right;\n",
       "    }\n",
       "</style>\n",
       "<table border=\"1\" class=\"dataframe\">\n",
       "  <thead>\n",
       "    <tr style=\"text-align: right;\">\n",
       "      <th></th>\n",
       "      <th>case</th>\n",
       "      <th>n_missing</th>\n",
       "      <th>pct_missing</th>\n",
       "    </tr>\n",
       "  </thead>\n",
       "  <tbody>\n",
       "    <tr>\n",
       "      <th>0</th>\n",
       "      <td>0</td>\n",
       "      <td>1</td>\n",
       "      <td>20.0</td>\n",
       "    </tr>\n",
       "    <tr>\n",
       "      <th>1</th>\n",
       "      <td>1</td>\n",
       "      <td>1</td>\n",
       "      <td>20.0</td>\n",
       "    </tr>\n",
       "    <tr>\n",
       "      <th>2</th>\n",
       "      <td>2</td>\n",
       "      <td>1</td>\n",
       "      <td>20.0</td>\n",
       "    </tr>\n",
       "    <tr>\n",
       "      <th>5</th>\n",
       "      <td>5</td>\n",
       "      <td>1</td>\n",
       "      <td>20.0</td>\n",
       "    </tr>\n",
       "    <tr>\n",
       "      <th>6</th>\n",
       "      <td>6</td>\n",
       "      <td>1</td>\n",
       "      <td>20.0</td>\n",
       "    </tr>\n",
       "    <tr>\n",
       "      <th>...</th>\n",
       "      <td>...</td>\n",
       "      <td>...</td>\n",
       "      <td>...</td>\n",
       "    </tr>\n",
       "    <tr>\n",
       "      <th>6534</th>\n",
       "      <td>6534</td>\n",
       "      <td>1</td>\n",
       "      <td>20.0</td>\n",
       "    </tr>\n",
       "    <tr>\n",
       "      <th>6536</th>\n",
       "      <td>6536</td>\n",
       "      <td>1</td>\n",
       "      <td>20.0</td>\n",
       "    </tr>\n",
       "    <tr>\n",
       "      <th>6538</th>\n",
       "      <td>6538</td>\n",
       "      <td>1</td>\n",
       "      <td>20.0</td>\n",
       "    </tr>\n",
       "    <tr>\n",
       "      <th>6539</th>\n",
       "      <td>6539</td>\n",
       "      <td>1</td>\n",
       "      <td>20.0</td>\n",
       "    </tr>\n",
       "    <tr>\n",
       "      <th>6543</th>\n",
       "      <td>6543</td>\n",
       "      <td>1</td>\n",
       "      <td>20.0</td>\n",
       "    </tr>\n",
       "  </tbody>\n",
       "</table>\n",
       "<p>3952 rows × 3 columns</p>\n",
       "</div>"
      ],
      "text/plain": [
       "      case  n_missing  pct_missing\n",
       "0        0          1         20.0\n",
       "1        1          1         20.0\n",
       "2        2          1         20.0\n",
       "5        5          1         20.0\n",
       "6        6          1         20.0\n",
       "...    ...        ...          ...\n",
       "6534  6534          1         20.0\n",
       "6536  6536          1         20.0\n",
       "6538  6538          1         20.0\n",
       "6539  6539          1         20.0\n",
       "6543  6543          1         20.0\n",
       "\n",
       "[3952 rows x 3 columns]"
      ]
     },
     "execution_count": 124,
     "metadata": {},
     "output_type": "execute_result"
    }
   ],
   "source": [
    "rows_with_missing_values[rows_with_missing_values[\"pct_missing\"]>0]"
   ]
  },
  {
   "cell_type": "code",
   "execution_count": 125,
   "id": "1f62fbc7-ab0e-4c3d-ab43-5c9de5e4b79b",
   "metadata": {},
   "outputs": [
    {
     "data": {
      "text/html": [
       "<div>\n",
       "<style scoped>\n",
       "    .dataframe tbody tr th:only-of-type {\n",
       "        vertical-align: middle;\n",
       "    }\n",
       "\n",
       "    .dataframe tbody tr th {\n",
       "        vertical-align: top;\n",
       "    }\n",
       "\n",
       "    .dataframe thead th {\n",
       "        text-align: right;\n",
       "    }\n",
       "</style>\n",
       "<table border=\"1\" class=\"dataframe\">\n",
       "  <thead>\n",
       "    <tr style=\"text-align: right;\">\n",
       "      <th></th>\n",
       "      <th>n_missing_in_case</th>\n",
       "      <th>n_cases</th>\n",
       "      <th>pct_case</th>\n",
       "    </tr>\n",
       "  </thead>\n",
       "  <tbody>\n",
       "    <tr>\n",
       "      <th>0</th>\n",
       "      <td>1</td>\n",
       "      <td>3854</td>\n",
       "      <td>58.893643</td>\n",
       "    </tr>\n",
       "    <tr>\n",
       "      <th>1</th>\n",
       "      <td>0</td>\n",
       "      <td>2592</td>\n",
       "      <td>39.608802</td>\n",
       "    </tr>\n",
       "    <tr>\n",
       "      <th>2</th>\n",
       "      <td>2</td>\n",
       "      <td>98</td>\n",
       "      <td>1.497555</td>\n",
       "    </tr>\n",
       "  </tbody>\n",
       "</table>\n",
       "</div>"
      ],
      "text/plain": [
       "   n_missing_in_case  n_cases   pct_case\n",
       "0                  1     3854  58.893643\n",
       "1                  0     2592  39.608802\n",
       "2                  2       98   1.497555"
      ]
     },
     "execution_count": 125,
     "metadata": {},
     "output_type": "execute_result"
    }
   ],
   "source": [
    "problems_df.missing.missing_case_table()"
   ]
  },
  {
   "cell_type": "code",
   "execution_count": 129,
   "id": "8d32eee3-dbef-4826-a983-7cd372186b98",
   "metadata": {},
   "outputs": [
    {
     "data": {
      "text/html": [
       "<div>\n",
       "<style scoped>\n",
       "    .dataframe tbody tr th:only-of-type {\n",
       "        vertical-align: middle;\n",
       "    }\n",
       "\n",
       "    .dataframe tbody tr th {\n",
       "        vertical-align: top;\n",
       "    }\n",
       "\n",
       "    .dataframe thead th {\n",
       "        text-align: right;\n",
       "    }\n",
       "</style>\n",
       "<table border=\"1\" class=\"dataframe\">\n",
       "  <thead>\n",
       "    <tr style=\"text-align: right;\">\n",
       "      <th></th>\n",
       "      <th>span_counter</th>\n",
       "      <th>n_missing</th>\n",
       "      <th>n_complete</th>\n",
       "      <th>pct_missing</th>\n",
       "      <th>pct_complete</th>\n",
       "    </tr>\n",
       "  </thead>\n",
       "  <tbody>\n",
       "    <tr>\n",
       "      <th>0</th>\n",
       "      <td>0</td>\n",
       "      <td>210</td>\n",
       "      <td>230</td>\n",
       "      <td>47.727273</td>\n",
       "      <td>52.272727</td>\n",
       "    </tr>\n",
       "    <tr>\n",
       "      <th>1</th>\n",
       "      <td>1</td>\n",
       "      <td>198</td>\n",
       "      <td>242</td>\n",
       "      <td>45.000000</td>\n",
       "      <td>55.000000</td>\n",
       "    </tr>\n",
       "    <tr>\n",
       "      <th>2</th>\n",
       "      <td>2</td>\n",
       "      <td>185</td>\n",
       "      <td>255</td>\n",
       "      <td>42.045455</td>\n",
       "      <td>57.954545</td>\n",
       "    </tr>\n",
       "    <tr>\n",
       "      <th>3</th>\n",
       "      <td>3</td>\n",
       "      <td>189</td>\n",
       "      <td>251</td>\n",
       "      <td>42.954545</td>\n",
       "      <td>57.045455</td>\n",
       "    </tr>\n",
       "    <tr>\n",
       "      <th>4</th>\n",
       "      <td>4</td>\n",
       "      <td>198</td>\n",
       "      <td>242</td>\n",
       "      <td>45.000000</td>\n",
       "      <td>55.000000</td>\n",
       "    </tr>\n",
       "    <tr>\n",
       "      <th>5</th>\n",
       "      <td>5</td>\n",
       "      <td>195</td>\n",
       "      <td>245</td>\n",
       "      <td>44.318182</td>\n",
       "      <td>55.681818</td>\n",
       "    </tr>\n",
       "    <tr>\n",
       "      <th>6</th>\n",
       "      <td>6</td>\n",
       "      <td>212</td>\n",
       "      <td>228</td>\n",
       "      <td>48.181818</td>\n",
       "      <td>51.818182</td>\n",
       "    </tr>\n",
       "    <tr>\n",
       "      <th>7</th>\n",
       "      <td>7</td>\n",
       "      <td>206</td>\n",
       "      <td>234</td>\n",
       "      <td>46.818182</td>\n",
       "      <td>53.181818</td>\n",
       "    </tr>\n",
       "    <tr>\n",
       "      <th>8</th>\n",
       "      <td>8</td>\n",
       "      <td>216</td>\n",
       "      <td>224</td>\n",
       "      <td>49.090909</td>\n",
       "      <td>50.909091</td>\n",
       "    </tr>\n",
       "    <tr>\n",
       "      <th>9</th>\n",
       "      <td>9</td>\n",
       "      <td>208</td>\n",
       "      <td>232</td>\n",
       "      <td>47.272727</td>\n",
       "      <td>52.727273</td>\n",
       "    </tr>\n",
       "    <tr>\n",
       "      <th>10</th>\n",
       "      <td>10</td>\n",
       "      <td>290</td>\n",
       "      <td>150</td>\n",
       "      <td>65.909091</td>\n",
       "      <td>34.090909</td>\n",
       "    </tr>\n",
       "    <tr>\n",
       "      <th>11</th>\n",
       "      <td>11</td>\n",
       "      <td>392</td>\n",
       "      <td>48</td>\n",
       "      <td>89.090909</td>\n",
       "      <td>10.909091</td>\n",
       "    </tr>\n",
       "    <tr>\n",
       "      <th>12</th>\n",
       "      <td>12</td>\n",
       "      <td>429</td>\n",
       "      <td>11</td>\n",
       "      <td>97.500000</td>\n",
       "      <td>2.500000</td>\n",
       "    </tr>\n",
       "    <tr>\n",
       "      <th>13</th>\n",
       "      <td>13</td>\n",
       "      <td>440</td>\n",
       "      <td>0</td>\n",
       "      <td>100.000000</td>\n",
       "      <td>0.000000</td>\n",
       "    </tr>\n",
       "    <tr>\n",
       "      <th>14</th>\n",
       "      <td>14</td>\n",
       "      <td>349</td>\n",
       "      <td>35</td>\n",
       "      <td>90.885417</td>\n",
       "      <td>9.114583</td>\n",
       "    </tr>\n",
       "  </tbody>\n",
       "</table>\n",
       "</div>"
      ],
      "text/plain": [
       "    span_counter  n_missing  n_complete  pct_missing  pct_complete\n",
       "0              0        210         230    47.727273     52.272727\n",
       "1              1        198         242    45.000000     55.000000\n",
       "2              2        185         255    42.045455     57.954545\n",
       "3              3        189         251    42.954545     57.045455\n",
       "4              4        198         242    45.000000     55.000000\n",
       "5              5        195         245    44.318182     55.681818\n",
       "6              6        212         228    48.181818     51.818182\n",
       "7              7        206         234    46.818182     53.181818\n",
       "8              8        216         224    49.090909     50.909091\n",
       "9              9        208         232    47.272727     52.727273\n",
       "10            10        290         150    65.909091     34.090909\n",
       "11            11        392          48    89.090909     10.909091\n",
       "12            12        429          11    97.500000      2.500000\n",
       "13            13        440           0   100.000000      0.000000\n",
       "14            14        349          35    90.885417      9.114583"
      ]
     },
     "execution_count": 129,
     "metadata": {},
     "output_type": "execute_result"
    }
   ],
   "source": [
    "(\n",
    "    problems_df.sort_values(by=\"level_type\")\n",
    "    .missing\n",
    "    .missing_variable_span(\n",
    "        variable=\"points\",\n",
    "        span_every=440\n",
    "    )\n",
    ")"
   ]
  },
  {
   "cell_type": "code",
   "execution_count": 154,
   "id": "72a0a58b-e7cd-43df-8c63-fbbb43359a7d",
   "metadata": {},
   "outputs": [
    {
     "data": {
      "text/plain": [
       "level_type\n",
       "A    [nan, 500.0, 1000.0, 750.0, 1750.0, 3000.0, 25...\n",
       "B    [nan, 5.0, 1000.0, 750.0, 500.0, 1250.0, 1500....\n",
       "C    [nan, 1500.0, 2000.0, 1750.0, 1250.0, 1000.0, ...\n",
       "D    [nan, 2000.0, 1750.0, 2250.0, 1500.0, 500.0, 2...\n",
       "E    [nan, 2750.0, 2000.0, 2500.0, 3000.0, 5000.0, ...\n",
       "F    [nan, 3000.0, 2500.0, 2750.0, 3250.0, 2250.0, ...\n",
       "G    [nan, 2500.0, 3500.0, 1500.0, 3000.0, 500.0, 3...\n",
       "H                                [nan, 1500.0, 3500.0]\n",
       "I                                                [nan]\n",
       "J                                                [nan]\n",
       "K                                                [nan]\n",
       "L                                                [nan]\n",
       "M                                                [nan]\n",
       "N                                                [nan]\n",
       "Name: points, dtype: object"
      ]
     },
     "execution_count": 154,
     "metadata": {},
     "output_type": "execute_result"
    }
   ],
   "source": [
    "problems_df.groupby(\"level_type\")[\"points\"].unique()"
   ]
  },
  {
   "cell_type": "code",
   "execution_count": 155,
   "id": "2a9f43ee-58e7-40d1-8dec-14cab2450504",
   "metadata": {},
   "outputs": [
    {
     "data": {
      "text/html": [
       "<div>\n",
       "<style scoped>\n",
       "    .dataframe tbody tr th:only-of-type {\n",
       "        vertical-align: middle;\n",
       "    }\n",
       "\n",
       "    .dataframe tbody tr th {\n",
       "        vertical-align: top;\n",
       "    }\n",
       "\n",
       "    .dataframe thead tr th {\n",
       "        text-align: left;\n",
       "    }\n",
       "\n",
       "    .dataframe thead tr:last-of-type th {\n",
       "        text-align: right;\n",
       "    }\n",
       "</style>\n",
       "<table border=\"1\" class=\"dataframe\">\n",
       "  <thead>\n",
       "    <tr>\n",
       "      <th></th>\n",
       "      <th colspan=\"3\" halign=\"left\">points</th>\n",
       "    </tr>\n",
       "    <tr>\n",
       "      <th></th>\n",
       "      <th>max</th>\n",
       "      <th>min</th>\n",
       "      <th>mean</th>\n",
       "    </tr>\n",
       "    <tr>\n",
       "      <th>level_type</th>\n",
       "      <th></th>\n",
       "      <th></th>\n",
       "      <th></th>\n",
       "    </tr>\n",
       "  </thead>\n",
       "  <tbody>\n",
       "    <tr>\n",
       "      <th>A</th>\n",
       "      <td>3000.0</td>\n",
       "      <td>3.0</td>\n",
       "      <td>522.310160</td>\n",
       "    </tr>\n",
       "    <tr>\n",
       "      <th>B</th>\n",
       "      <td>3000.0</td>\n",
       "      <td>1.0</td>\n",
       "      <td>994.864028</td>\n",
       "    </tr>\n",
       "    <tr>\n",
       "      <th>C</th>\n",
       "      <td>3000.0</td>\n",
       "      <td>8.0</td>\n",
       "      <td>1504.516000</td>\n",
       "    </tr>\n",
       "    <tr>\n",
       "      <th>D</th>\n",
       "      <td>3000.0</td>\n",
       "      <td>500.0</td>\n",
       "      <td>2007.369615</td>\n",
       "    </tr>\n",
       "    <tr>\n",
       "      <th>E</th>\n",
       "      <td>5000.0</td>\n",
       "      <td>500.0</td>\n",
       "      <td>2498.188406</td>\n",
       "    </tr>\n",
       "    <tr>\n",
       "      <th>F</th>\n",
       "      <td>3500.0</td>\n",
       "      <td>500.0</td>\n",
       "      <td>2724.637681</td>\n",
       "    </tr>\n",
       "    <tr>\n",
       "      <th>G</th>\n",
       "      <td>3500.0</td>\n",
       "      <td>500.0</td>\n",
       "      <td>2989.130435</td>\n",
       "    </tr>\n",
       "    <tr>\n",
       "      <th>H</th>\n",
       "      <td>3500.0</td>\n",
       "      <td>1500.0</td>\n",
       "      <td>2833.333333</td>\n",
       "    </tr>\n",
       "    <tr>\n",
       "      <th>I</th>\n",
       "      <td>NaN</td>\n",
       "      <td>NaN</td>\n",
       "      <td>NaN</td>\n",
       "    </tr>\n",
       "    <tr>\n",
       "      <th>J</th>\n",
       "      <td>NaN</td>\n",
       "      <td>NaN</td>\n",
       "      <td>NaN</td>\n",
       "    </tr>\n",
       "    <tr>\n",
       "      <th>K</th>\n",
       "      <td>NaN</td>\n",
       "      <td>NaN</td>\n",
       "      <td>NaN</td>\n",
       "    </tr>\n",
       "    <tr>\n",
       "      <th>L</th>\n",
       "      <td>NaN</td>\n",
       "      <td>NaN</td>\n",
       "      <td>NaN</td>\n",
       "    </tr>\n",
       "    <tr>\n",
       "      <th>M</th>\n",
       "      <td>NaN</td>\n",
       "      <td>NaN</td>\n",
       "      <td>NaN</td>\n",
       "    </tr>\n",
       "    <tr>\n",
       "      <th>N</th>\n",
       "      <td>NaN</td>\n",
       "      <td>NaN</td>\n",
       "      <td>NaN</td>\n",
       "    </tr>\n",
       "  </tbody>\n",
       "</table>\n",
       "</div>"
      ],
      "text/plain": [
       "            points                     \n",
       "               max     min         mean\n",
       "level_type                             \n",
       "A           3000.0     3.0   522.310160\n",
       "B           3000.0     1.0   994.864028\n",
       "C           3000.0     8.0  1504.516000\n",
       "D           3000.0   500.0  2007.369615\n",
       "E           5000.0   500.0  2498.188406\n",
       "F           3500.0   500.0  2724.637681\n",
       "G           3500.0   500.0  2989.130435\n",
       "H           3500.0  1500.0  2833.333333\n",
       "I              NaN     NaN          NaN\n",
       "J              NaN     NaN          NaN\n",
       "K              NaN     NaN          NaN\n",
       "L              NaN     NaN          NaN\n",
       "M              NaN     NaN          NaN\n",
       "N              NaN     NaN          NaN"
      ]
     },
     "execution_count": 155,
     "metadata": {},
     "output_type": "execute_result"
    }
   ],
   "source": [
    "problems_df.groupby(\"level_type\").agg({\"points\":[\"max\",\"min\",\"mean\"]})"
   ]
  },
  {
   "cell_type": "code",
   "execution_count": 160,
   "id": "6afa70ee-85cb-47d7-878c-4d332fd2aa96",
   "metadata": {
    "tags": []
   },
   "outputs": [
    {
     "data": {
      "text/html": [
       "<div>\n",
       "<style scoped>\n",
       "    .dataframe tbody tr th:only-of-type {\n",
       "        vertical-align: middle;\n",
       "    }\n",
       "\n",
       "    .dataframe tbody tr th {\n",
       "        vertical-align: top;\n",
       "    }\n",
       "\n",
       "    .dataframe thead th {\n",
       "        text-align: right;\n",
       "    }\n",
       "</style>\n",
       "<table border=\"1\" class=\"dataframe\">\n",
       "  <thead>\n",
       "    <tr style=\"text-align: right;\">\n",
       "      <th></th>\n",
       "      <th>problem_id</th>\n",
       "      <th>level_type</th>\n",
       "      <th>points</th>\n",
       "    </tr>\n",
       "  </thead>\n",
       "  <tbody>\n",
       "    <tr>\n",
       "      <th>1391</th>\n",
       "      <td>prob_4124</td>\n",
       "      <td>NaN</td>\n",
       "      <td>3.0</td>\n",
       "    </tr>\n",
       "    <tr>\n",
       "      <th>5346</th>\n",
       "      <td>prob_2859</td>\n",
       "      <td>NaN</td>\n",
       "      <td>3.0</td>\n",
       "    </tr>\n",
       "    <tr>\n",
       "      <th>4879</th>\n",
       "      <td>prob_1461</td>\n",
       "      <td>NaN</td>\n",
       "      <td>4.0</td>\n",
       "    </tr>\n",
       "    <tr>\n",
       "      <th>1658</th>\n",
       "      <td>prob_1031</td>\n",
       "      <td>NaN</td>\n",
       "      <td>4.0</td>\n",
       "    </tr>\n",
       "    <tr>\n",
       "      <th>2646</th>\n",
       "      <td>prob_1947</td>\n",
       "      <td>NaN</td>\n",
       "      <td>6.0</td>\n",
       "    </tr>\n",
       "    <tr>\n",
       "      <th>95</th>\n",
       "      <td>prob_4785</td>\n",
       "      <td>NaN</td>\n",
       "      <td>8.0</td>\n",
       "    </tr>\n",
       "    <tr>\n",
       "      <th>4989</th>\n",
       "      <td>prob_745</td>\n",
       "      <td>NaN</td>\n",
       "      <td>8.0</td>\n",
       "    </tr>\n",
       "    <tr>\n",
       "      <th>5272</th>\n",
       "      <td>prob_2011</td>\n",
       "      <td>NaN</td>\n",
       "      <td>10.0</td>\n",
       "    </tr>\n",
       "    <tr>\n",
       "      <th>3448</th>\n",
       "      <td>prob_5670</td>\n",
       "      <td>NaN</td>\n",
       "      <td>11.0</td>\n",
       "    </tr>\n",
       "    <tr>\n",
       "      <th>2198</th>\n",
       "      <td>prob_2345</td>\n",
       "      <td>NaN</td>\n",
       "      <td>12.0</td>\n",
       "    </tr>\n",
       "    <tr>\n",
       "      <th>1641</th>\n",
       "      <td>prob_1859</td>\n",
       "      <td>NaN</td>\n",
       "      <td>20.0</td>\n",
       "    </tr>\n",
       "    <tr>\n",
       "      <th>1891</th>\n",
       "      <td>prob_6535</td>\n",
       "      <td>NaN</td>\n",
       "      <td>30.0</td>\n",
       "    </tr>\n",
       "    <tr>\n",
       "      <th>3076</th>\n",
       "      <td>prob_1138</td>\n",
       "      <td>NaN</td>\n",
       "      <td>30.0</td>\n",
       "    </tr>\n",
       "    <tr>\n",
       "      <th>5609</th>\n",
       "      <td>prob_48</td>\n",
       "      <td>NaN</td>\n",
       "      <td>30.0</td>\n",
       "    </tr>\n",
       "    <tr>\n",
       "      <th>4796</th>\n",
       "      <td>prob_5168</td>\n",
       "      <td>NaN</td>\n",
       "      <td>30.0</td>\n",
       "    </tr>\n",
       "    <tr>\n",
       "      <th>5870</th>\n",
       "      <td>prob_4499</td>\n",
       "      <td>NaN</td>\n",
       "      <td>30.0</td>\n",
       "    </tr>\n",
       "    <tr>\n",
       "      <th>4152</th>\n",
       "      <td>prob_2485</td>\n",
       "      <td>NaN</td>\n",
       "      <td>30.0</td>\n",
       "    </tr>\n",
       "    <tr>\n",
       "      <th>2702</th>\n",
       "      <td>prob_5501</td>\n",
       "      <td>NaN</td>\n",
       "      <td>30.0</td>\n",
       "    </tr>\n",
       "    <tr>\n",
       "      <th>803</th>\n",
       "      <td>prob_6009</td>\n",
       "      <td>NaN</td>\n",
       "      <td>40.0</td>\n",
       "    </tr>\n",
       "    <tr>\n",
       "      <th>1968</th>\n",
       "      <td>prob_6052</td>\n",
       "      <td>NaN</td>\n",
       "      <td>40.0</td>\n",
       "    </tr>\n",
       "    <tr>\n",
       "      <th>5368</th>\n",
       "      <td>prob_4263</td>\n",
       "      <td>NaN</td>\n",
       "      <td>50.0</td>\n",
       "    </tr>\n",
       "    <tr>\n",
       "      <th>2662</th>\n",
       "      <td>prob_3569</td>\n",
       "      <td>NaN</td>\n",
       "      <td>50.0</td>\n",
       "    </tr>\n",
       "    <tr>\n",
       "      <th>2209</th>\n",
       "      <td>prob_1504</td>\n",
       "      <td>NaN</td>\n",
       "      <td>50.0</td>\n",
       "    </tr>\n",
       "    <tr>\n",
       "      <th>1151</th>\n",
       "      <td>prob_3300</td>\n",
       "      <td>NaN</td>\n",
       "      <td>60.0</td>\n",
       "    </tr>\n",
       "    <tr>\n",
       "      <th>4314</th>\n",
       "      <td>prob_1161</td>\n",
       "      <td>NaN</td>\n",
       "      <td>70.0</td>\n",
       "    </tr>\n",
       "    <tr>\n",
       "      <th>2539</th>\n",
       "      <td>prob_4927</td>\n",
       "      <td>NaN</td>\n",
       "      <td>70.0</td>\n",
       "    </tr>\n",
       "    <tr>\n",
       "      <th>2507</th>\n",
       "      <td>prob_6115</td>\n",
       "      <td>NaN</td>\n",
       "      <td>70.0</td>\n",
       "    </tr>\n",
       "    <tr>\n",
       "      <th>5952</th>\n",
       "      <td>prob_341</td>\n",
       "      <td>NaN</td>\n",
       "      <td>70.0</td>\n",
       "    </tr>\n",
       "    <tr>\n",
       "      <th>1888</th>\n",
       "      <td>prob_2780</td>\n",
       "      <td>NaN</td>\n",
       "      <td>500.0</td>\n",
       "    </tr>\n",
       "    <tr>\n",
       "      <th>4465</th>\n",
       "      <td>prob_5319</td>\n",
       "      <td>NaN</td>\n",
       "      <td>1000.0</td>\n",
       "    </tr>\n",
       "    <tr>\n",
       "      <th>2493</th>\n",
       "      <td>prob_2734</td>\n",
       "      <td>NaN</td>\n",
       "      <td>1000.0</td>\n",
       "    </tr>\n",
       "    <tr>\n",
       "      <th>5606</th>\n",
       "      <td>prob_1318</td>\n",
       "      <td>NaN</td>\n",
       "      <td>1000.0</td>\n",
       "    </tr>\n",
       "    <tr>\n",
       "      <th>875</th>\n",
       "      <td>prob_1472</td>\n",
       "      <td>NaN</td>\n",
       "      <td>1000.0</td>\n",
       "    </tr>\n",
       "    <tr>\n",
       "      <th>136</th>\n",
       "      <td>prob_5326</td>\n",
       "      <td>NaN</td>\n",
       "      <td>1000.0</td>\n",
       "    </tr>\n",
       "    <tr>\n",
       "      <th>6500</th>\n",
       "      <td>prob_686</td>\n",
       "      <td>NaN</td>\n",
       "      <td>1000.0</td>\n",
       "    </tr>\n",
       "  </tbody>\n",
       "</table>\n",
       "</div>"
      ],
      "text/plain": [
       "     problem_id level_type  points\n",
       "1391  prob_4124        NaN     3.0\n",
       "5346  prob_2859        NaN     3.0\n",
       "4879  prob_1461        NaN     4.0\n",
       "1658  prob_1031        NaN     4.0\n",
       "2646  prob_1947        NaN     6.0\n",
       "95    prob_4785        NaN     8.0\n",
       "4989   prob_745        NaN     8.0\n",
       "5272  prob_2011        NaN    10.0\n",
       "3448  prob_5670        NaN    11.0\n",
       "2198  prob_2345        NaN    12.0\n",
       "1641  prob_1859        NaN    20.0\n",
       "1891  prob_6535        NaN    30.0\n",
       "3076  prob_1138        NaN    30.0\n",
       "5609    prob_48        NaN    30.0\n",
       "4796  prob_5168        NaN    30.0\n",
       "5870  prob_4499        NaN    30.0\n",
       "4152  prob_2485        NaN    30.0\n",
       "2702  prob_5501        NaN    30.0\n",
       "803   prob_6009        NaN    40.0\n",
       "1968  prob_6052        NaN    40.0\n",
       "5368  prob_4263        NaN    50.0\n",
       "2662  prob_3569        NaN    50.0\n",
       "2209  prob_1504        NaN    50.0\n",
       "1151  prob_3300        NaN    60.0\n",
       "4314  prob_1161        NaN    70.0\n",
       "2539  prob_4927        NaN    70.0\n",
       "2507  prob_6115        NaN    70.0\n",
       "5952   prob_341        NaN    70.0\n",
       "1888  prob_2780        NaN   500.0\n",
       "4465  prob_5319        NaN  1000.0\n",
       "2493  prob_2734        NaN  1000.0\n",
       "5606  prob_1318        NaN  1000.0\n",
       "875   prob_1472        NaN  1000.0\n",
       "136   prob_5326        NaN  1000.0\n",
       "6500   prob_686        NaN  1000.0"
      ]
     },
     "execution_count": 160,
     "metadata": {},
     "output_type": "execute_result"
    }
   ],
   "source": [
    "problems_df[(problems_df[\"level_type\"].isna()==True) & (problems_df[\"points\"].isna()==False)].sort_values(by=\"points\")"
   ]
  },
  {
   "cell_type": "markdown",
   "id": "769a5d32-389b-4731-a482-31d0cd426dff",
   "metadata": {},
   "source": [
    "Observing the information above we can could said that the problems could be categorize in the level_type A - B- C - D"
   ]
  },
  {
   "cell_type": "code",
   "execution_count": 31,
   "id": "f03b1739-2c22-4dc8-afa9-ef5077de11ee",
   "metadata": {},
   "outputs": [],
   "source": [
    "#problems_df[problems_df[\"problem_id\"] == \"prob_4124\"]\n",
    "#problems_df.loc[1391, \"level_type\"] = \"A\"\n",
    "def replace_null_values(df, indexes):\n",
    "    for index in indexes:\n",
    "        points = df.loc[index, \"points\"]\n",
    "        if points < 8:\n",
    "            df.loc[index, \"level_type\"] = \"A\"\n",
    "        elif points < 500:\n",
    "            df.loc[index, \"level_type\"] = \"C\"\n",
    "        else:\n",
    "            df.loc[index, \"level_type\"] = \"D\""
   ]
  },
  {
   "cell_type": "code",
   "execution_count": 29,
   "id": "2014e4f5-0911-47ab-b86c-d7b45e32339c",
   "metadata": {},
   "outputs": [],
   "source": [
    "indexes = list((problems_df[(problems_df[\"level_type\"].isna()==True) & (problems_df[\"points\"].isna()==False)].sort_values(by=\"points\")).index)"
   ]
  },
  {
   "cell_type": "code",
   "execution_count": 32,
   "id": "c65194d5-c9a0-4c6d-9b13-676f0f36fc2d",
   "metadata": {},
   "outputs": [],
   "source": [
    "replace_null_values(problems_df, indexes)"
   ]
  },
  {
   "cell_type": "code",
   "execution_count": 34,
   "id": "bfec5cc0-ee31-4c95-88ac-57b00ee9d252",
   "metadata": {},
   "outputs": [
    {
     "data": {
      "text/html": [
       "<div>\n",
       "<style scoped>\n",
       "    .dataframe tbody tr th:only-of-type {\n",
       "        vertical-align: middle;\n",
       "    }\n",
       "\n",
       "    .dataframe tbody tr th {\n",
       "        vertical-align: top;\n",
       "    }\n",
       "\n",
       "    .dataframe thead th {\n",
       "        text-align: right;\n",
       "    }\n",
       "</style>\n",
       "<table border=\"1\" class=\"dataframe\">\n",
       "  <thead>\n",
       "    <tr style=\"text-align: right;\">\n",
       "      <th></th>\n",
       "      <th>problem_id</th>\n",
       "      <th>level_type</th>\n",
       "      <th>points</th>\n",
       "    </tr>\n",
       "  </thead>\n",
       "  <tbody>\n",
       "    <tr>\n",
       "      <th>28</th>\n",
       "      <td>prob_3284</td>\n",
       "      <td>NaN</td>\n",
       "      <td>NaN</td>\n",
       "    </tr>\n",
       "    <tr>\n",
       "      <th>41</th>\n",
       "      <td>prob_4968</td>\n",
       "      <td>NaN</td>\n",
       "      <td>NaN</td>\n",
       "    </tr>\n",
       "    <tr>\n",
       "      <th>42</th>\n",
       "      <td>prob_704</td>\n",
       "      <td>NaN</td>\n",
       "      <td>NaN</td>\n",
       "    </tr>\n",
       "    <tr>\n",
       "      <th>88</th>\n",
       "      <td>prob_145</td>\n",
       "      <td>NaN</td>\n",
       "      <td>NaN</td>\n",
       "    </tr>\n",
       "    <tr>\n",
       "      <th>115</th>\n",
       "      <td>prob_1535</td>\n",
       "      <td>NaN</td>\n",
       "      <td>NaN</td>\n",
       "    </tr>\n",
       "    <tr>\n",
       "      <th>...</th>\n",
       "      <td>...</td>\n",
       "      <td>...</td>\n",
       "      <td>...</td>\n",
       "    </tr>\n",
       "    <tr>\n",
       "      <th>5885</th>\n",
       "      <td>prob_6179</td>\n",
       "      <td>NaN</td>\n",
       "      <td>NaN</td>\n",
       "    </tr>\n",
       "    <tr>\n",
       "      <th>5976</th>\n",
       "      <td>prob_1221</td>\n",
       "      <td>NaN</td>\n",
       "      <td>NaN</td>\n",
       "    </tr>\n",
       "    <tr>\n",
       "      <th>6041</th>\n",
       "      <td>prob_6467</td>\n",
       "      <td>NaN</td>\n",
       "      <td>NaN</td>\n",
       "    </tr>\n",
       "    <tr>\n",
       "      <th>6391</th>\n",
       "      <td>prob_2702</td>\n",
       "      <td>NaN</td>\n",
       "      <td>NaN</td>\n",
       "    </tr>\n",
       "    <tr>\n",
       "      <th>6510</th>\n",
       "      <td>prob_2577</td>\n",
       "      <td>NaN</td>\n",
       "      <td>NaN</td>\n",
       "    </tr>\n",
       "  </tbody>\n",
       "</table>\n",
       "<p>98 rows × 3 columns</p>\n",
       "</div>"
      ],
      "text/plain": [
       "     problem_id level_type  points\n",
       "28    prob_3284        NaN     NaN\n",
       "41    prob_4968        NaN     NaN\n",
       "42     prob_704        NaN     NaN\n",
       "88     prob_145        NaN     NaN\n",
       "115   prob_1535        NaN     NaN\n",
       "...         ...        ...     ...\n",
       "5885  prob_6179        NaN     NaN\n",
       "5976  prob_1221        NaN     NaN\n",
       "6041  prob_6467        NaN     NaN\n",
       "6391  prob_2702        NaN     NaN\n",
       "6510  prob_2577        NaN     NaN\n",
       "\n",
       "[98 rows x 3 columns]"
      ]
     },
     "execution_count": 34,
     "metadata": {},
     "output_type": "execute_result"
    }
   ],
   "source": [
    "problems_df[(problems_df[\"level_type\"].isna()==True)].sort_values(by=\"points\")"
   ]
  },
  {
   "cell_type": "code",
   "execution_count": 58,
   "id": "2a6fc0b5-f057-4e48-82b3-977165a3e67e",
   "metadata": {},
   "outputs": [],
   "source": [
    "problems_df.drop(columns=\"points\", inplace=True)"
   ]
  },
  {
   "cell_type": "markdown",
   "id": "309c6c5b-6adc-4569-ba23-563e136e0188",
   "metadata": {},
   "source": [
    "Until now we have used the column of \"points\" to estimate the level of a problem. But now due to the quantity of missing values this column will be delete. It can be said that the \"level_type\" is a feature that describe better a problem."
   ]
  },
  {
   "cell_type": "markdown",
   "id": "fcbd9f00-6955-43aa-91c0-2dd4f4d6a0a1",
   "metadata": {},
   "source": [
    "There is still 98 problems without level_type. Let's concatenate the data frames and look for the time that takes a problem to be solved"
   ]
  },
  {
   "cell_type": "markdown",
   "id": "3b1b97b7-54bc-42a1-8219-eacf5f8f1060",
   "metadata": {},
   "source": [
    "## Submissions\n",
    "\n",
    "submissions_data.csv - This is the file containing data of the submissions. It contains the following features :\n",
    "key | value\n",
    "----|----\n",
    "user_id | Unique ID assigned to each user\n",
    "problem_id | unique ID assigned to each problem\n",
    "attemps_range | column to be predicted"
   ]
  },
  {
   "cell_type": "code",
   "execution_count": 35,
   "id": "32b61211-eb3c-4226-99cd-88db49563eba",
   "metadata": {},
   "outputs": [
    {
     "data": {
      "text/html": [
       "<div>\n",
       "<style scoped>\n",
       "    .dataframe tbody tr th:only-of-type {\n",
       "        vertical-align: middle;\n",
       "    }\n",
       "\n",
       "    .dataframe tbody tr th {\n",
       "        vertical-align: top;\n",
       "    }\n",
       "\n",
       "    .dataframe thead th {\n",
       "        text-align: right;\n",
       "    }\n",
       "</style>\n",
       "<table border=\"1\" class=\"dataframe\">\n",
       "  <thead>\n",
       "    <tr style=\"text-align: right;\">\n",
       "      <th></th>\n",
       "      <th>user_id</th>\n",
       "      <th>problem_id</th>\n",
       "      <th>attempts_range</th>\n",
       "    </tr>\n",
       "  </thead>\n",
       "  <tbody>\n",
       "    <tr>\n",
       "      <th>0</th>\n",
       "      <td>user_232</td>\n",
       "      <td>prob_6507</td>\n",
       "      <td>1</td>\n",
       "    </tr>\n",
       "    <tr>\n",
       "      <th>1</th>\n",
       "      <td>user_3568</td>\n",
       "      <td>prob_2994</td>\n",
       "      <td>3</td>\n",
       "    </tr>\n",
       "    <tr>\n",
       "      <th>2</th>\n",
       "      <td>user_1600</td>\n",
       "      <td>prob_5071</td>\n",
       "      <td>1</td>\n",
       "    </tr>\n",
       "    <tr>\n",
       "      <th>3</th>\n",
       "      <td>user_2256</td>\n",
       "      <td>prob_703</td>\n",
       "      <td>1</td>\n",
       "    </tr>\n",
       "    <tr>\n",
       "      <th>4</th>\n",
       "      <td>user_2321</td>\n",
       "      <td>prob_356</td>\n",
       "      <td>1</td>\n",
       "    </tr>\n",
       "  </tbody>\n",
       "</table>\n",
       "</div>"
      ],
      "text/plain": [
       "     user_id problem_id  attempts_range\n",
       "0   user_232  prob_6507               1\n",
       "1  user_3568  prob_2994               3\n",
       "2  user_1600  prob_5071               1\n",
       "3  user_2256   prob_703               1\n",
       "4  user_2321   prob_356               1"
      ]
     },
     "execution_count": 35,
     "metadata": {},
     "output_type": "execute_result"
    }
   ],
   "source": [
    "submissions_df = pd.read_csv(\"../data/raw/train/train_submissions.csv\")\n",
    "submissions_df.head()"
   ]
  },
  {
   "cell_type": "code",
   "execution_count": 83,
   "id": "5a6c8c7a-7ab0-4cb2-976e-ea2c7befcc3e",
   "metadata": {},
   "outputs": [
    {
     "name": "stdout",
     "output_type": "stream",
     "text": [
      "<class 'pandas.core.frame.DataFrame'>\n",
      "RangeIndex: 155295 entries, 0 to 155294\n",
      "Data columns (total 3 columns):\n",
      " #   Column          Non-Null Count   Dtype \n",
      "---  ------          --------------   ----- \n",
      " 0   user_id         155295 non-null  object\n",
      " 1   problem_id      155295 non-null  object\n",
      " 2   attempts_range  155295 non-null  int64 \n",
      "dtypes: int64(1), object(2)\n",
      "memory usage: 3.6+ MB\n"
     ]
    }
   ],
   "source": [
    "submissions_df.info()"
   ]
  },
  {
   "cell_type": "code",
   "execution_count": 84,
   "id": "263c030b-545f-4eee-ba22-c337484ea7d3",
   "metadata": {},
   "outputs": [
    {
     "name": "stdout",
     "output_type": "stream",
     "text": [
      "****** user_id ----3529----['user_232' 'user_3568' 'user_1600' ... 'user_3212' 'user_208' 'user_3306'] ****\n",
      "****** problem_id ----5776----['prob_6507' 'prob_2994' 'prob_5071' ... 'prob_4986' 'prob_1486'\n",
      " 'prob_1016'] ****\n",
      "****** attempts_range ----6----[1 3 2 4 5 6] ****\n"
     ]
    }
   ],
   "source": [
    "_ = submissions_df.apply(lambda x: print(f\"****** {x.name} ----{len(x.unique())}----{x.unique()} ****\"))"
   ]
  },
  {
   "cell_type": "raw",
   "id": "9b52d8bf-2452-4ff3-84d2-af247d69746c",
   "metadata": {
    "tags": []
   },
   "source": [
    "average_attempts = submissions_df.groupby(\"user_id\").agg({\"attempts_range\":\"mean\", })\n",
    "average_attempts"
   ]
  },
  {
   "cell_type": "markdown",
   "id": "0bb83dbc-13e6-491b-beb1-70ec8b1c3228",
   "metadata": {},
   "source": [
    "The information in the submissions data set is consistent and there are not missing values."
   ]
  },
  {
   "cell_type": "markdown",
   "id": "4af5945c-dbe9-4551-8bbe-38b160c53949",
   "metadata": {},
   "source": [
    "## Users df"
   ]
  },
  {
   "cell_type": "markdown",
   "id": "774d0e69-deaf-4b1a-a893-5733dce5c22a",
   "metadata": {},
   "source": [
    "user_data.csv. This is the file containing data of users. It contains the following features :\n",
    "key | value\n",
    "----|----\n",
    "user_id | unique ID assigned to each user\n",
    "submission_count | total number of user submissions\n",
    "problem_solved | total number of accepted user submissions\n",
    "contribution | user contribution to the judge\n",
    "country | location of user\n",
    "follower_count | amount of users who have this user in followers\n",
    "last_online_time_seconds | time when user was last seen online\n",
    "max_rating | maximum rating of user\n",
    "rating | rating of user\n",
    "rank | can be one of ‘beginner’ ,’intermediate’ , ‘advanced’, ‘expert’\n",
    "registration_time_seconds | time when user was registered"
   ]
  },
  {
   "cell_type": "code",
   "execution_count": 36,
   "id": "79adad64-1e90-4b4c-ab3f-e3cddf104c46",
   "metadata": {
    "tags": []
   },
   "outputs": [
    {
     "data": {
      "text/html": [
       "<div>\n",
       "<style scoped>\n",
       "    .dataframe tbody tr th:only-of-type {\n",
       "        vertical-align: middle;\n",
       "    }\n",
       "\n",
       "    .dataframe tbody tr th {\n",
       "        vertical-align: top;\n",
       "    }\n",
       "\n",
       "    .dataframe thead th {\n",
       "        text-align: right;\n",
       "    }\n",
       "</style>\n",
       "<table border=\"1\" class=\"dataframe\">\n",
       "  <thead>\n",
       "    <tr style=\"text-align: right;\">\n",
       "      <th></th>\n",
       "      <th>user_id</th>\n",
       "      <th>submission_count</th>\n",
       "      <th>problem_solved</th>\n",
       "      <th>contribution</th>\n",
       "      <th>country</th>\n",
       "      <th>follower_count</th>\n",
       "      <th>last_online_time_seconds</th>\n",
       "      <th>max_rating</th>\n",
       "      <th>rating</th>\n",
       "      <th>rank</th>\n",
       "      <th>registration_time_seconds</th>\n",
       "    </tr>\n",
       "  </thead>\n",
       "  <tbody>\n",
       "    <tr>\n",
       "      <th>0</th>\n",
       "      <td>user_3311</td>\n",
       "      <td>47</td>\n",
       "      <td>40</td>\n",
       "      <td>0</td>\n",
       "      <td>NaN</td>\n",
       "      <td>4</td>\n",
       "      <td>1504111645</td>\n",
       "      <td>348.337</td>\n",
       "      <td>330.849</td>\n",
       "      <td>intermediate</td>\n",
       "      <td>1466686436</td>\n",
       "    </tr>\n",
       "    <tr>\n",
       "      <th>1</th>\n",
       "      <td>user_3028</td>\n",
       "      <td>63</td>\n",
       "      <td>52</td>\n",
       "      <td>0</td>\n",
       "      <td>India</td>\n",
       "      <td>17</td>\n",
       "      <td>1498998165</td>\n",
       "      <td>405.677</td>\n",
       "      <td>339.450</td>\n",
       "      <td>intermediate</td>\n",
       "      <td>1441893325</td>\n",
       "    </tr>\n",
       "    <tr>\n",
       "      <th>2</th>\n",
       "      <td>user_2268</td>\n",
       "      <td>226</td>\n",
       "      <td>203</td>\n",
       "      <td>-8</td>\n",
       "      <td>Egypt</td>\n",
       "      <td>24</td>\n",
       "      <td>1505566052</td>\n",
       "      <td>307.339</td>\n",
       "      <td>284.404</td>\n",
       "      <td>beginner</td>\n",
       "      <td>1454267603</td>\n",
       "    </tr>\n",
       "    <tr>\n",
       "      <th>3</th>\n",
       "      <td>user_480</td>\n",
       "      <td>611</td>\n",
       "      <td>490</td>\n",
       "      <td>1</td>\n",
       "      <td>Ukraine</td>\n",
       "      <td>94</td>\n",
       "      <td>1505257499</td>\n",
       "      <td>525.803</td>\n",
       "      <td>471.330</td>\n",
       "      <td>advanced</td>\n",
       "      <td>1350720417</td>\n",
       "    </tr>\n",
       "    <tr>\n",
       "      <th>4</th>\n",
       "      <td>user_650</td>\n",
       "      <td>504</td>\n",
       "      <td>479</td>\n",
       "      <td>12</td>\n",
       "      <td>Russia</td>\n",
       "      <td>4</td>\n",
       "      <td>1496613433</td>\n",
       "      <td>548.739</td>\n",
       "      <td>486.525</td>\n",
       "      <td>advanced</td>\n",
       "      <td>1395560498</td>\n",
       "    </tr>\n",
       "  </tbody>\n",
       "</table>\n",
       "</div>"
      ],
      "text/plain": [
       "     user_id  submission_count  problem_solved  contribution  country  \\\n",
       "0  user_3311                47              40             0      NaN   \n",
       "1  user_3028                63              52             0    India   \n",
       "2  user_2268               226             203            -8    Egypt   \n",
       "3   user_480               611             490             1  Ukraine   \n",
       "4   user_650               504             479            12   Russia   \n",
       "\n",
       "   follower_count  last_online_time_seconds  max_rating   rating  \\\n",
       "0               4                1504111645     348.337  330.849   \n",
       "1              17                1498998165     405.677  339.450   \n",
       "2              24                1505566052     307.339  284.404   \n",
       "3              94                1505257499     525.803  471.330   \n",
       "4               4                1496613433     548.739  486.525   \n",
       "\n",
       "           rank  registration_time_seconds  \n",
       "0  intermediate                 1466686436  \n",
       "1  intermediate                 1441893325  \n",
       "2      beginner                 1454267603  \n",
       "3      advanced                 1350720417  \n",
       "4      advanced                 1395560498  "
      ]
     },
     "execution_count": 36,
     "metadata": {},
     "output_type": "execute_result"
    }
   ],
   "source": [
    "users_df = pd.read_csv(\"../data/raw/train/user_data.csv\")\n",
    "users_df.head()"
   ]
  },
  {
   "cell_type": "code",
   "execution_count": 50,
   "id": "86b39e0d-d61b-4796-a48d-6e41ae9ae83c",
   "metadata": {},
   "outputs": [
    {
     "data": {
      "text/plain": [
       "0"
      ]
     },
     "execution_count": 50,
     "metadata": {},
     "output_type": "execute_result"
    }
   ],
   "source": [
    "users_df.duplicated().sum()"
   ]
  },
  {
   "cell_type": "raw",
   "id": "061ffbc8-a7bc-47e9-b2b4-e4a352b7819c",
   "metadata": {},
   "source": [
    "There are columns with repeated values in several rows. last_onli"
   ]
  },
  {
   "cell_type": "code",
   "execution_count": 76,
   "id": "a1b8c8f5-35a0-4361-aace-cb8766596782",
   "metadata": {},
   "outputs": [
    {
     "name": "stdout",
     "output_type": "stream",
     "text": [
      "<class 'pandas.core.frame.DataFrame'>\n",
      "RangeIndex: 3571 entries, 0 to 3570\n",
      "Data columns (total 11 columns):\n",
      " #   Column                     Non-Null Count  Dtype  \n",
      "---  ------                     --------------  -----  \n",
      " 0   user_id                    3571 non-null   object \n",
      " 1   submission_count           3571 non-null   int64  \n",
      " 2   problem_solved             3571 non-null   int64  \n",
      " 3   contribution               3571 non-null   int64  \n",
      " 4   country                    2418 non-null   object \n",
      " 5   follower_count             3571 non-null   int64  \n",
      " 6   last_online_time_seconds   3571 non-null   int64  \n",
      " 7   max_rating                 3571 non-null   float64\n",
      " 8   rating                     3571 non-null   float64\n",
      " 9   rank                       3571 non-null   object \n",
      " 10  registration_time_seconds  3571 non-null   int64  \n",
      "dtypes: float64(2), int64(6), object(3)\n",
      "memory usage: 307.0+ KB\n"
     ]
    }
   ],
   "source": [
    "users_df.info()"
   ]
  },
  {
   "cell_type": "code",
   "execution_count": 79,
   "id": "97611794-2ce3-4f10-9da5-ad5945a2e972",
   "metadata": {
    "tags": []
   },
   "outputs": [
    {
     "name": "stdout",
     "output_type": "stream",
     "text": [
      "\n",
      "submission_count ----3571----max:4570---min:1\n",
      "\n",
      "problem_solved ----3571----max:4476---min:0\n",
      "\n",
      "contribution ----3571----max:171---min:-64\n",
      "\n",
      "follower_count ----3571----max:10575---min:0\n",
      "\n",
      "last_online_time_seconds ----3571----max:1505595074---min:1484237387\n",
      "\n",
      "max_rating ----3571----max:983.085---min:303.899\n",
      "\n",
      "rating ----3571----max:911.124---min:0.0\n",
      "\n",
      "registration_time_seconds ----3571----max:1484236125---min:1264761387\n"
     ]
    }
   ],
   "source": [
    "user_df_num_col = make_column_selector(dtype_include=\"number\")(users_df)\n",
    "_ = users_df[user_df_num_col].apply(lambda x: print(f\"\\n{x.name} ----{len(x)}----max:{x.max()}---min:{x.min()}\"))"
   ]
  },
  {
   "cell_type": "code",
   "execution_count": 15,
   "id": "b2cea6bd-be25-4b34-9e4a-ec8459ac065e",
   "metadata": {
    "tags": []
   },
   "outputs": [
    {
     "data": {
      "text/plain": [
       "3571"
      ]
     },
     "execution_count": 15,
     "metadata": {},
     "output_type": "execute_result"
    }
   ],
   "source": [
    "len(users_df[\"user_id\"].unique())"
   ]
  },
  {
   "cell_type": "code",
   "execution_count": 82,
   "id": "9153e686-0a14-499b-b8ec-6c5906187e8a",
   "metadata": {},
   "outputs": [
    {
     "name": "stdout",
     "output_type": "stream",
     "text": [
      "\n",
      "user_id ----3571----['user_3311' 'user_3028' 'user_2268' ... 'user_1929' 'user_2772'\n",
      " 'user_2179']\n",
      "\n",
      "country ----80----[nan 'India' 'Egypt' 'Ukraine' 'Russia' 'China' 'Indonesia' 'Syria'\n",
      " 'Poland' 'Vietnam' 'Japan' 'Colombia' 'Singapore' 'Bangladesh' 'Brazil'\n",
      " 'Thailand' 'South Korea' 'Tajikistan' 'Croatia' 'Italy' 'Turkmenistan'\n",
      " 'Cuba' 'Taiwan' 'Iran' 'Kazakhstan' 'Georgia' 'Bolivia' 'Belarus'\n",
      " 'Germany' 'Estonia' 'United States' 'Canada' 'Moldova' 'Mongolia'\n",
      " 'Tunisia' 'Armenia' 'Argentina' 'Uzbekistan' 'Kyrgyzstan' 'Romania'\n",
      " 'North Korea' 'Hong Kong' 'Jordan' 'Austria' 'Serbia' 'Peru' 'Finland'\n",
      " 'Switzerland' 'South Africa' 'Mexico' 'Costa Rica' 'Israel' 'Belgium'\n",
      " 'United Kingdom' 'Spain' 'Netherlands' 'Slovakia' 'Czechia' 'Azerbaijan'\n",
      " 'Norway' 'Australia' 'Bosnia and Herzegovina' 'Malaysia' 'Philippines'\n",
      " 'Macedonia' 'Lithuania' 'Bulgaria' 'Morocco' 'Hungary' 'Chile'\n",
      " 'Venezuela' 'Haiti' 'Iceland' 'Trinidad and Tobago' 'France'\n",
      " 'Christmas Island' 'Swaziland' 'Laos' 'Latvia' 'Lebanon']\n",
      "\n",
      "rank ----4----['intermediate' 'beginner' 'advanced' 'expert']\n"
     ]
    }
   ],
   "source": [
    "user_df_cat_col = make_column_selector(dtype_include=\"object\")(users_df)\n",
    "_ = users_df[user_df_cat_col].apply(lambda x: print(f\"\\n{x.name} ----{len(x.unique())}----{x.unique()}\"))"
   ]
  },
  {
   "cell_type": "code",
   "execution_count": 39,
   "id": "403d1c99-e58e-4cd8-ac8d-2bf77a1aef21",
   "metadata": {},
   "outputs": [
    {
     "data": {
      "text/plain": [
       "[]"
      ]
     },
     "execution_count": 39,
     "metadata": {},
     "output_type": "execute_result"
    }
   ],
   "source": [
    "user_without_country = list(users_df[users_df[\"country\"].isna() == True][\"user_id\"].unique())\n",
    "user_with_country =  list(users_df[users_df[\"country\"].isna() == False][\"user_id\"].unique())\n",
    "[i for i in user_without_country if i in user_with_country]"
   ]
  },
  {
   "cell_type": "markdown",
   "id": "53d82efa-aa15-48fc-9219-26a36d4d53a3",
   "metadata": {},
   "source": [
    "There is no way to determine the country to which a users belongs to, so, a new category labeled as \"Missing\" will be created."
   ]
  },
  {
   "cell_type": "code",
   "execution_count": 40,
   "id": "acff2ffe-da2b-4511-bb6f-a9b8a079b844",
   "metadata": {},
   "outputs": [],
   "source": [
    "users_df[\"country\"] = users_df[\"country\"].fillna(\"Missing\")"
   ]
  },
  {
   "cell_type": "code",
   "execution_count": 41,
   "id": "aac304f7-401b-4f20-86f9-78f0705fafe9",
   "metadata": {},
   "outputs": [
    {
     "name": "stdout",
     "output_type": "stream",
     "text": [
      "<class 'pandas.core.frame.DataFrame'>\n",
      "RangeIndex: 3571 entries, 0 to 3570\n",
      "Data columns (total 11 columns):\n",
      " #   Column                     Non-Null Count  Dtype  \n",
      "---  ------                     --------------  -----  \n",
      " 0   user_id                    3571 non-null   object \n",
      " 1   submission_count           3571 non-null   int64  \n",
      " 2   problem_solved             3571 non-null   int64  \n",
      " 3   contribution               3571 non-null   int64  \n",
      " 4   country                    3571 non-null   object \n",
      " 5   follower_count             3571 non-null   int64  \n",
      " 6   last_online_time_seconds   3571 non-null   int64  \n",
      " 7   max_rating                 3571 non-null   float64\n",
      " 8   rating                     3571 non-null   float64\n",
      " 9   rank                       3571 non-null   object \n",
      " 10  registration_time_seconds  3571 non-null   int64  \n",
      "dtypes: float64(2), int64(6), object(3)\n",
      "memory usage: 307.0+ KB\n"
     ]
    }
   ],
   "source": [
    "users_df.info()"
   ]
  },
  {
   "cell_type": "markdown",
   "id": "36d7a10b-5e0d-4dfa-8fcd-8241f4161883",
   "metadata": {},
   "source": [
    "The information of users is consistent and there is not missing information."
   ]
  },
  {
   "cell_type": "markdown",
   "id": "8f228240-a62d-4ea7-9125-1281bea077a6",
   "metadata": {},
   "source": [
    "## Merge"
   ]
  },
  {
   "cell_type": "code",
   "execution_count": 61,
   "id": "b922bac4-8e88-435e-8bda-9e048cb18b3c",
   "metadata": {
    "tags": []
   },
   "outputs": [
    {
     "data": {
      "text/html": [
       "<div>\n",
       "<style scoped>\n",
       "    .dataframe tbody tr th:only-of-type {\n",
       "        vertical-align: middle;\n",
       "    }\n",
       "\n",
       "    .dataframe tbody tr th {\n",
       "        vertical-align: top;\n",
       "    }\n",
       "\n",
       "    .dataframe thead th {\n",
       "        text-align: right;\n",
       "    }\n",
       "</style>\n",
       "<table border=\"1\" class=\"dataframe\">\n",
       "  <thead>\n",
       "    <tr style=\"text-align: right;\">\n",
       "      <th></th>\n",
       "      <th>user_id</th>\n",
       "      <th>submission_count</th>\n",
       "      <th>problem_solved</th>\n",
       "      <th>contribution</th>\n",
       "      <th>country</th>\n",
       "      <th>follower_count</th>\n",
       "      <th>last_online_time_seconds</th>\n",
       "      <th>max_rating</th>\n",
       "      <th>rating</th>\n",
       "      <th>rank</th>\n",
       "      <th>registration_time_seconds</th>\n",
       "      <th>problem_id</th>\n",
       "      <th>attempts_range</th>\n",
       "    </tr>\n",
       "  </thead>\n",
       "  <tbody>\n",
       "    <tr>\n",
       "      <th>0</th>\n",
       "      <td>user_3311</td>\n",
       "      <td>47</td>\n",
       "      <td>40</td>\n",
       "      <td>0</td>\n",
       "      <td>Missing</td>\n",
       "      <td>4</td>\n",
       "      <td>1504111645</td>\n",
       "      <td>348.337</td>\n",
       "      <td>330.849</td>\n",
       "      <td>intermediate</td>\n",
       "      <td>1466686436</td>\n",
       "      <td>prob_75</td>\n",
       "      <td>1</td>\n",
       "    </tr>\n",
       "    <tr>\n",
       "      <th>1</th>\n",
       "      <td>user_3311</td>\n",
       "      <td>47</td>\n",
       "      <td>40</td>\n",
       "      <td>0</td>\n",
       "      <td>Missing</td>\n",
       "      <td>4</td>\n",
       "      <td>1504111645</td>\n",
       "      <td>348.337</td>\n",
       "      <td>330.849</td>\n",
       "      <td>intermediate</td>\n",
       "      <td>1466686436</td>\n",
       "      <td>prob_1481</td>\n",
       "      <td>1</td>\n",
       "    </tr>\n",
       "    <tr>\n",
       "      <th>2</th>\n",
       "      <td>user_3311</td>\n",
       "      <td>47</td>\n",
       "      <td>40</td>\n",
       "      <td>0</td>\n",
       "      <td>Missing</td>\n",
       "      <td>4</td>\n",
       "      <td>1504111645</td>\n",
       "      <td>348.337</td>\n",
       "      <td>330.849</td>\n",
       "      <td>intermediate</td>\n",
       "      <td>1466686436</td>\n",
       "      <td>prob_3474</td>\n",
       "      <td>1</td>\n",
       "    </tr>\n",
       "    <tr>\n",
       "      <th>3</th>\n",
       "      <td>user_3311</td>\n",
       "      <td>47</td>\n",
       "      <td>40</td>\n",
       "      <td>0</td>\n",
       "      <td>Missing</td>\n",
       "      <td>4</td>\n",
       "      <td>1504111645</td>\n",
       "      <td>348.337</td>\n",
       "      <td>330.849</td>\n",
       "      <td>intermediate</td>\n",
       "      <td>1466686436</td>\n",
       "      <td>prob_334</td>\n",
       "      <td>1</td>\n",
       "    </tr>\n",
       "    <tr>\n",
       "      <th>4</th>\n",
       "      <td>user_3311</td>\n",
       "      <td>47</td>\n",
       "      <td>40</td>\n",
       "      <td>0</td>\n",
       "      <td>Missing</td>\n",
       "      <td>4</td>\n",
       "      <td>1504111645</td>\n",
       "      <td>348.337</td>\n",
       "      <td>330.849</td>\n",
       "      <td>intermediate</td>\n",
       "      <td>1466686436</td>\n",
       "      <td>prob_3508</td>\n",
       "      <td>1</td>\n",
       "    </tr>\n",
       "  </tbody>\n",
       "</table>\n",
       "</div>"
      ],
      "text/plain": [
       "     user_id  submission_count  problem_solved  contribution  country  \\\n",
       "0  user_3311                47              40             0  Missing   \n",
       "1  user_3311                47              40             0  Missing   \n",
       "2  user_3311                47              40             0  Missing   \n",
       "3  user_3311                47              40             0  Missing   \n",
       "4  user_3311                47              40             0  Missing   \n",
       "\n",
       "   follower_count  last_online_time_seconds  max_rating   rating  \\\n",
       "0               4                1504111645     348.337  330.849   \n",
       "1               4                1504111645     348.337  330.849   \n",
       "2               4                1504111645     348.337  330.849   \n",
       "3               4                1504111645     348.337  330.849   \n",
       "4               4                1504111645     348.337  330.849   \n",
       "\n",
       "           rank  registration_time_seconds problem_id  attempts_range  \n",
       "0  intermediate                 1466686436    prob_75               1  \n",
       "1  intermediate                 1466686436  prob_1481               1  \n",
       "2  intermediate                 1466686436  prob_3474               1  \n",
       "3  intermediate                 1466686436   prob_334               1  \n",
       "4  intermediate                 1466686436  prob_3508               1  "
      ]
     },
     "execution_count": 61,
     "metadata": {},
     "output_type": "execute_result"
    }
   ],
   "source": [
    "df = users_df.merge(submissions_df, left_on=\"user_id\", how=\"inner\",right_on=\"user_id\")\n",
    "df.head()"
   ]
  },
  {
   "cell_type": "code",
   "execution_count": 51,
   "id": "35665f84-76d8-405f-b698-510b45a19b29",
   "metadata": {},
   "outputs": [
    {
     "data": {
      "text/plain": [
       "Index(['problem_id', 'level_type', 'points'], dtype='object')"
      ]
     },
     "execution_count": 51,
     "metadata": {},
     "output_type": "execute_result"
    }
   ],
   "source": [
    "problems_df.columns"
   ]
  },
  {
   "cell_type": "code",
   "execution_count": 62,
   "id": "9bba7c61-19b6-4278-9dd8-cd82da7a4278",
   "metadata": {},
   "outputs": [],
   "source": [
    "df = df.merge(problems_df, on=\"problem_id\",how=\"inner\")"
   ]
  },
  {
   "cell_type": "code",
   "execution_count": 63,
   "id": "3e4c4ec2-222e-4ab0-82b4-7eb8c4dbe2da",
   "metadata": {},
   "outputs": [
    {
     "name": "stdout",
     "output_type": "stream",
     "text": [
      "<class 'pandas.core.frame.DataFrame'>\n",
      "Int64Index: 155295 entries, 0 to 155294\n",
      "Data columns (total 14 columns):\n",
      " #   Column                     Non-Null Count   Dtype  \n",
      "---  ------                     --------------   -----  \n",
      " 0   user_id                    155295 non-null  object \n",
      " 1   submission_count           155295 non-null  int64  \n",
      " 2   problem_solved             155295 non-null  int64  \n",
      " 3   contribution               155295 non-null  int64  \n",
      " 4   country                    155295 non-null  object \n",
      " 5   follower_count             155295 non-null  int64  \n",
      " 6   last_online_time_seconds   155295 non-null  int64  \n",
      " 7   max_rating                 155295 non-null  float64\n",
      " 8   rating                     155295 non-null  float64\n",
      " 9   rank                       155295 non-null  object \n",
      " 10  registration_time_seconds  155295 non-null  int64  \n",
      " 11  problem_id                 155295 non-null  object \n",
      " 12  attempts_range             155295 non-null  int64  \n",
      " 13  level_type                 154881 non-null  object \n",
      "dtypes: float64(2), int64(7), object(5)\n",
      "memory usage: 17.8+ MB\n"
     ]
    }
   ],
   "source": [
    "df.info()"
   ]
  },
  {
   "cell_type": "code",
   "execution_count": 66,
   "id": "8c93850e-6455-4abe-9e5c-020f5dbe06d8",
   "metadata": {},
   "outputs": [
    {
     "data": {
      "text/html": [
       "<div>\n",
       "<style scoped>\n",
       "    .dataframe tbody tr th:only-of-type {\n",
       "        vertical-align: middle;\n",
       "    }\n",
       "\n",
       "    .dataframe tbody tr th {\n",
       "        vertical-align: top;\n",
       "    }\n",
       "\n",
       "    .dataframe thead tr th {\n",
       "        text-align: left;\n",
       "    }\n",
       "\n",
       "    .dataframe thead tr:last-of-type th {\n",
       "        text-align: right;\n",
       "    }\n",
       "</style>\n",
       "<table border=\"1\" class=\"dataframe\">\n",
       "  <thead>\n",
       "    <tr>\n",
       "      <th></th>\n",
       "      <th colspan=\"3\" halign=\"left\">attempts_range</th>\n",
       "    </tr>\n",
       "    <tr>\n",
       "      <th></th>\n",
       "      <th>max</th>\n",
       "      <th>min</th>\n",
       "      <th>mean</th>\n",
       "    </tr>\n",
       "    <tr>\n",
       "      <th>level_type</th>\n",
       "      <th></th>\n",
       "      <th></th>\n",
       "      <th></th>\n",
       "    </tr>\n",
       "  </thead>\n",
       "  <tbody>\n",
       "    <tr>\n",
       "      <th>A</th>\n",
       "      <td>6</td>\n",
       "      <td>1</td>\n",
       "      <td>1.534509</td>\n",
       "    </tr>\n",
       "    <tr>\n",
       "      <th>B</th>\n",
       "      <td>6</td>\n",
       "      <td>1</td>\n",
       "      <td>1.762735</td>\n",
       "    </tr>\n",
       "    <tr>\n",
       "      <th>C</th>\n",
       "      <td>6</td>\n",
       "      <td>1</td>\n",
       "      <td>1.960191</td>\n",
       "    </tr>\n",
       "    <tr>\n",
       "      <th>D</th>\n",
       "      <td>6</td>\n",
       "      <td>1</td>\n",
       "      <td>2.020094</td>\n",
       "    </tr>\n",
       "    <tr>\n",
       "      <th>E</th>\n",
       "      <td>6</td>\n",
       "      <td>1</td>\n",
       "      <td>2.163628</td>\n",
       "    </tr>\n",
       "    <tr>\n",
       "      <th>F</th>\n",
       "      <td>6</td>\n",
       "      <td>1</td>\n",
       "      <td>2.136756</td>\n",
       "    </tr>\n",
       "    <tr>\n",
       "      <th>G</th>\n",
       "      <td>6</td>\n",
       "      <td>1</td>\n",
       "      <td>1.913212</td>\n",
       "    </tr>\n",
       "    <tr>\n",
       "      <th>H</th>\n",
       "      <td>6</td>\n",
       "      <td>1</td>\n",
       "      <td>1.827703</td>\n",
       "    </tr>\n",
       "    <tr>\n",
       "      <th>I</th>\n",
       "      <td>6</td>\n",
       "      <td>1</td>\n",
       "      <td>1.829319</td>\n",
       "    </tr>\n",
       "    <tr>\n",
       "      <th>J</th>\n",
       "      <td>6</td>\n",
       "      <td>1</td>\n",
       "      <td>1.802956</td>\n",
       "    </tr>\n",
       "    <tr>\n",
       "      <th>K</th>\n",
       "      <td>6</td>\n",
       "      <td>1</td>\n",
       "      <td>1.783926</td>\n",
       "    </tr>\n",
       "    <tr>\n",
       "      <th>L</th>\n",
       "      <td>6</td>\n",
       "      <td>1</td>\n",
       "      <td>1.804167</td>\n",
       "    </tr>\n",
       "    <tr>\n",
       "      <th>M</th>\n",
       "      <td>6</td>\n",
       "      <td>1</td>\n",
       "      <td>1.590308</td>\n",
       "    </tr>\n",
       "    <tr>\n",
       "      <th>N</th>\n",
       "      <td>4</td>\n",
       "      <td>1</td>\n",
       "      <td>1.603448</td>\n",
       "    </tr>\n",
       "  </tbody>\n",
       "</table>\n",
       "</div>"
      ],
      "text/plain": [
       "           attempts_range              \n",
       "                      max min      mean\n",
       "level_type                             \n",
       "A                       6   1  1.534509\n",
       "B                       6   1  1.762735\n",
       "C                       6   1  1.960191\n",
       "D                       6   1  2.020094\n",
       "E                       6   1  2.163628\n",
       "F                       6   1  2.136756\n",
       "G                       6   1  1.913212\n",
       "H                       6   1  1.827703\n",
       "I                       6   1  1.829319\n",
       "J                       6   1  1.802956\n",
       "K                       6   1  1.783926\n",
       "L                       6   1  1.804167\n",
       "M                       6   1  1.590308\n",
       "N                       4   1  1.603448"
      ]
     },
     "execution_count": 66,
     "metadata": {},
     "output_type": "execute_result"
    }
   ],
   "source": [
    "df.groupby(\"level_type\").agg({\"attempts_range\":[\"max\", \"min\",\"mean\"]})"
   ]
  },
  {
   "cell_type": "markdown",
   "id": "18792407-2493-49ad-89bc-20c39b01acb0",
   "metadata": {},
   "source": [
    "Let's create a new category to label the missing values in the col level_type. "
   ]
  },
  {
   "cell_type": "code",
   "execution_count": 67,
   "id": "f08e7375-09b8-40f7-a1be-cd0b496524f2",
   "metadata": {},
   "outputs": [
    {
     "name": "stdout",
     "output_type": "stream",
     "text": [
      "<class 'pandas.core.frame.DataFrame'>\n",
      "Int64Index: 155295 entries, 0 to 155294\n",
      "Data columns (total 14 columns):\n",
      " #   Column                     Non-Null Count   Dtype  \n",
      "---  ------                     --------------   -----  \n",
      " 0   user_id                    155295 non-null  object \n",
      " 1   submission_count           155295 non-null  int64  \n",
      " 2   problem_solved             155295 non-null  int64  \n",
      " 3   contribution               155295 non-null  int64  \n",
      " 4   country                    155295 non-null  object \n",
      " 5   follower_count             155295 non-null  int64  \n",
      " 6   last_online_time_seconds   155295 non-null  int64  \n",
      " 7   max_rating                 155295 non-null  float64\n",
      " 8   rating                     155295 non-null  float64\n",
      " 9   rank                       155295 non-null  object \n",
      " 10  registration_time_seconds  155295 non-null  int64  \n",
      " 11  problem_id                 155295 non-null  object \n",
      " 12  attempts_range             155295 non-null  int64  \n",
      " 13  level_type                 155295 non-null  object \n",
      "dtypes: float64(2), int64(7), object(5)\n",
      "memory usage: 17.8+ MB\n"
     ]
    }
   ],
   "source": [
    "df[\"level_type\"] = df[\"level_type\"].fillna(\"O\")\n",
    "df.info()"
   ]
  },
  {
   "cell_type": "markdown",
   "id": "5b414313-ed76-4aa0-8b19-1dee6fc3d051",
   "metadata": {},
   "source": [
    "Ok, the data set is ready to visual analysis."
   ]
  },
  {
   "cell_type": "code",
   "execution_count": 68,
   "id": "fcd92034-4c32-4bc0-934d-d47ae68cc01b",
   "metadata": {},
   "outputs": [],
   "source": [
    "df.to_csv(path_or_buf=\"../data/processed/df_cleaned.csv\", index=False)"
   ]
  }
 ],
 "metadata": {
  "kernelspec": {
   "display_name": "Python 3 (ipykernel)",
   "language": "python",
   "name": "python3"
  },
  "language_info": {
   "codemirror_mode": {
    "name": "ipython",
    "version": 3
   },
   "file_extension": ".py",
   "mimetype": "text/x-python",
   "name": "python",
   "nbconvert_exporter": "python",
   "pygments_lexer": "ipython3",
   "version": "3.10.4"
  }
 },
 "nbformat": 4,
 "nbformat_minor": 5
}
