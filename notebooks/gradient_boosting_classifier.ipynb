{
 "cells": [
  {
   "cell_type": "code",
   "execution_count": null,
   "id": "3b01abc9-fea3-41fd-ad6b-88599344b595",
   "metadata": {},
   "outputs": [],
   "source": []
  },
  {
   "cell_type": "markdown",
   "id": "074641c8-66b1-4a70-ad21-e390010b68e8",
   "metadata": {},
   "source": [
    "The preprocessing process and of the data can be found in the *'preprocessing.ipynb'* notebook\n",
    "after done the process in the mentioned notebook the next model was implemented."
   ]
  },
  {
   "cell_type": "code",
   "execution_count": 63,
   "id": "e547b04e-4b1c-4570-bf74-bd04eb46bf28",
   "metadata": {
    "id": "TNGUokmCvoBw"
   },
   "outputs": [],
   "source": [
    "from sklearn.ensemble import GradientBoostingClassifier"
   ]
  },
  {
   "cell_type": "code",
   "execution_count": 65,
   "id": "f2849043-e711-4e89-be48-8dafb3094a62",
   "metadata": {
    "colab": {
     "base_uri": "https://localhost:8080/"
    },
    "id": "1NzP9cNnvoqu",
    "outputId": "3b0ea92f-1b36-4b77-89c5-84bcedf50716"
   },
   "outputs": [
    {
     "name": "stdout",
     "output_type": "stream",
     "text": [
      "Train score: 0.547739948389245\n"
     ]
    }
   ],
   "source": [
    "gb = GradientBoostingClassifier(n_estimators=100, random_state=42)\n",
    "gb.fit(X_train_transformed, y_train_reduced)\n",
    "print('Train score:', gb.score(X_train_transformed, y_train_reduced))"
   ]
  },
  {
   "cell_type": "code",
   "execution_count": 66,
   "id": "11c3d13c-4bec-45d3-a595-5bb7c193e782",
   "metadata": {
    "colab": {
     "base_uri": "https://localhost:8080/"
    },
    "id": "gbUTHj-vzCYw",
    "outputId": "ef047300-e0fd-4460-ad5c-24cf5f9d1143"
   },
   "outputs": [
    {
     "name": "stdout",
     "output_type": "stream",
     "text": [
      "Train score: 0.541842397336293\n"
     ]
    }
   ],
   "source": [
    "print('Train score:', gb.score(X_test_transformed, y_test_reduced))"
   ]
  },
  {
   "cell_type": "code",
   "execution_count": 67,
   "id": "b8c667a6-0f4c-41e4-b648-8f3ceb57acc3",
   "metadata": {},
   "outputs": [
    {
     "name": "stdout",
     "output_type": "stream",
     "text": [
      "              precision    recall  f1-score   support\n",
      "\n",
      "           1       0.55      0.99      0.70     19353\n",
      "           2       0.47      0.03      0.06     11042\n",
      "           3       0.18      0.00      0.00      3168\n",
      "           4       0.18      0.00      0.01      1226\n",
      "           5       0.08      0.01      0.02       569\n",
      "           6       0.24      0.03      0.05       682\n",
      "\n",
      "    accuracy                           0.54     36040\n",
      "   macro avg       0.28      0.18      0.14     36040\n",
      "weighted avg       0.46      0.54      0.40     36040\n",
      "\n"
     ]
    }
   ],
   "source": [
    "gb_predictions = gb.predict(X_test_transformed)\n",
    "print(classification_report(y_test_reduced, gb_predictions))"
   ]
  }
 ],
 "metadata": {
  "kernelspec": {
   "display_name": "Python 3 (ipykernel)",
   "language": "python",
   "name": "python3"
  },
  "language_info": {
   "codemirror_mode": {
    "name": "ipython",
    "version": 3
   },
   "file_extension": ".py",
   "mimetype": "text/x-python",
   "name": "python",
   "nbconvert_exporter": "python",
   "pygments_lexer": "ipython3",
   "version": "3.10.4"
  }
 },
 "nbformat": 4,
 "nbformat_minor": 5
}
