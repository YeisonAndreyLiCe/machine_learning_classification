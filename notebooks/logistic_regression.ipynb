{
 "cells": [
  {
   "cell_type": "markdown",
   "id": "e697b046-6fe7-4f88-b5f3-e00543aca3d5",
   "metadata": {},
   "source": [
    "The preprocessing process and of the data can be found in the *'preprocessing.ipynb'* notebook\n",
    "after done the process in the mentioned notebook the next model was implemented."
   ]
  },
  {
   "cell_type": "code",
   "execution_count": 28,
   "id": "1d9d48d5-29b9-45f8-bd62-b24aae79f56b",
   "metadata": {
    "id": "2c4FSB6r0acz"
   },
   "outputs": [],
   "source": [
    "from sklearn.linear_model import LogisticRegression"
   ]
  },
  {
   "cell_type": "code",
   "execution_count": null,
   "id": "a15db256-8f85-48af-bce1-02aef6c00f79",
   "metadata": {
    "colab": {
     "base_uri": "https://localhost:8080/"
    },
    "id": "0LknZU7mLoFU",
    "outputId": "45695b9a-8959-424d-9446-b07288bc6e3c"
   },
   "outputs": [],
   "source": [
    "%%time\n",
    "lreg = LogisticRegression()\n",
    "lreg.fit(X_train_procesed, y_train)"
   ]
  },
  {
   "cell_type": "code",
   "execution_count": 30,
   "id": "1756517d-4b3c-4c59-8950-c7db55e04f24",
   "metadata": {
    "id": "rFaFV86u20K7"
   },
   "outputs": [
    {
     "data": {
      "text/plain": [
       "0.5594478357380688"
      ]
     },
     "execution_count": 30,
     "metadata": {},
     "output_type": "execute_result"
    }
   ],
   "source": [
    "lreg_predictions = lreg.predict(X_test_processed)\n",
    "lreg.score(X_test_processed, y_test)"
   ]
  },
  {
   "cell_type": "code",
   "execution_count": 40,
   "id": "2b3203f3-a896-4112-a3dc-deed07da9f32",
   "metadata": {
    "colab": {
     "base_uri": "https://localhost:8080/",
     "height": 279
    },
    "id": "FxI4LcGE3Kta",
    "outputId": "176dac66-5886-40ce-bcf8-02a803258dcb"
   },
   "outputs": [],
   "source": [
    "from sklearn.metrics import classification_report"
   ]
  },
  {
   "cell_type": "code",
   "execution_count": 42,
   "id": "5b117d43-5399-41fd-9299-207ae878cbc5",
   "metadata": {
    "colab": {
     "base_uri": "https://localhost:8080/"
    },
    "id": "3cNIirpujl1O",
    "outputId": "af4361ea-500a-49b2-aaae-73f7eb97864b"
   },
   "outputs": [
    {
     "name": "stdout",
     "output_type": "stream",
     "text": [
      "              precision    recall  f1-score   support\n",
      "\n",
      "           1       0.63      0.84      0.72     15424\n",
      "           2       0.41      0.35      0.37      8909\n",
      "           3       0.20      0.05      0.07      2535\n",
      "           4       0.21      0.01      0.01       969\n",
      "           5       0.00      0.00      0.00       455\n",
      "           6       0.21      0.04      0.06       540\n",
      "\n",
      "    accuracy                           0.56     28832\n",
      "   macro avg       0.28      0.21      0.21     28832\n",
      "weighted avg       0.49      0.56      0.51     28832\n",
      "\n"
     ]
    }
   ],
   "source": [
    "print(classification_report(y_test, lreg_predictions))"
   ]
  },
  {
   "cell_type": "code",
   "execution_count": 44,
   "id": "2bddeb96-8bb3-4b0d-b4bd-673c7e2bd10c",
   "metadata": {},
   "outputs": [
    {
     "name": "stdout",
     "output_type": "stream",
     "text": [
      "              precision    recall  f1-score   support\n",
      "\n",
      "           1       0.65      0.87      0.74     61723\n",
      "           2       0.47      0.41      0.44     34986\n",
      "           3       0.37      0.09      0.14     10525\n",
      "           4       0.42      0.01      0.02      4059\n",
      "           5       0.25      0.00      0.00      1803\n",
      "           6       0.38      0.07      0.11      2229\n",
      "\n",
      "    accuracy                           0.60    115325\n",
      "   macro avg       0.42      0.24      0.24    115325\n",
      "weighted avg       0.55      0.60      0.55    115325\n",
      "\n"
     ]
    }
   ],
   "source": [
    "lreg_train_predictions = lreg.predict(X_train_procesed)\n",
    "print(classification_report(y_train, lreg_train_predictions))"
   ]
  },
  {
   "cell_type": "code",
   "execution_count": 45,
   "id": "7b9a2c7c-1c90-460a-ba54-4adfdc36a612",
   "metadata": {
    "colab": {
     "base_uri": "https://localhost:8080/"
    },
    "id": "Sdt7H_HNd4iC",
    "outputId": "c80126f7-12f1-4001-d52d-e863f1988473"
   },
   "outputs": [
    {
     "name": "stdout",
     "output_type": "stream",
     "text": [
      "<class 'pandas.core.frame.DataFrame'>\n",
      "Int64Index: 144157 entries, 0 to 155294\n",
      "Data columns (total 12 columns):\n",
      " #   Column                     Non-Null Count   Dtype  \n",
      "---  ------                     --------------   -----  \n",
      " 0   user_id                    144157 non-null  object \n",
      " 1   problem_solved             144157 non-null  int64  \n",
      " 2   contribution               144157 non-null  int64  \n",
      " 3   country                    144157 non-null  object \n",
      " 4   follower_count             144157 non-null  int64  \n",
      " 5   last_online_time_seconds   144157 non-null  int64  \n",
      " 6   rating                     144157 non-null  float64\n",
      " 7   rank                       144157 non-null  object \n",
      " 8   registration_time_seconds  144157 non-null  int64  \n",
      " 9   problem_id                 144157 non-null  object \n",
      " 10  attempts_range             144157 non-null  int64  \n",
      " 11  level_type                 144157 non-null  object \n",
      "dtypes: float64(1), int64(6), object(5)\n",
      "memory usage: 14.3+ MB\n"
     ]
    }
   ],
   "source": [
    "df.info()"
   ]
  },
  {
   "cell_type": "code",
   "execution_count": 46,
   "id": "fc510587-b0cc-4802-b52c-190feaf9b42d",
   "metadata": {
    "id": "uSI7aYtneDF7"
   },
   "outputs": [],
   "source": [
    "df_reduced = df.drop([\"user_id\", \"rating\", \"problem_solved\"], axis=1)"
   ]
  },
  {
   "cell_type": "code",
   "execution_count": 47,
   "id": "022d7197-a603-4960-ba51-74b477ea0fed",
   "metadata": {
    "id": "GyihjswKeltt"
   },
   "outputs": [],
   "source": [
    "X_reduced = df_reduced.drop(\"attempts_range\", axis=1)\n",
    "y_reduced = df_reduced[\"attempts_range\"]\n",
    "X_train_reduced, X_test_reduced, y_train_reduced, y_test_reduced = train_test_split(X_reduced, y_reduced, random_state=42)"
   ]
  },
  {
   "cell_type": "code",
   "execution_count": 48,
   "id": "057eb33c-3a74-4d6b-bdbc-0184e01576e9",
   "metadata": {
    "colab": {
     "base_uri": "https://localhost:8080/"
    },
    "id": "V4KIYjTifJKA",
    "outputId": "35cd1246-c81a-43a6-a5b3-993f0715f3c1"
   },
   "outputs": [
    {
     "data": {
      "text/html": [
       "<style>#sk-container-id-3 {color: black;background-color: white;}#sk-container-id-3 pre{padding: 0;}#sk-container-id-3 div.sk-toggleable {background-color: white;}#sk-container-id-3 label.sk-toggleable__label {cursor: pointer;display: block;width: 100%;margin-bottom: 0;padding: 0.3em;box-sizing: border-box;text-align: center;}#sk-container-id-3 label.sk-toggleable__label-arrow:before {content: \"▸\";float: left;margin-right: 0.25em;color: #696969;}#sk-container-id-3 label.sk-toggleable__label-arrow:hover:before {color: black;}#sk-container-id-3 div.sk-estimator:hover label.sk-toggleable__label-arrow:before {color: black;}#sk-container-id-3 div.sk-toggleable__content {max-height: 0;max-width: 0;overflow: hidden;text-align: left;background-color: #f0f8ff;}#sk-container-id-3 div.sk-toggleable__content pre {margin: 0.2em;color: black;border-radius: 0.25em;background-color: #f0f8ff;}#sk-container-id-3 input.sk-toggleable__control:checked~div.sk-toggleable__content {max-height: 200px;max-width: 100%;overflow: auto;}#sk-container-id-3 input.sk-toggleable__control:checked~label.sk-toggleable__label-arrow:before {content: \"▾\";}#sk-container-id-3 div.sk-estimator input.sk-toggleable__control:checked~label.sk-toggleable__label {background-color: #d4ebff;}#sk-container-id-3 div.sk-label input.sk-toggleable__control:checked~label.sk-toggleable__label {background-color: #d4ebff;}#sk-container-id-3 input.sk-hidden--visually {border: 0;clip: rect(1px 1px 1px 1px);clip: rect(1px, 1px, 1px, 1px);height: 1px;margin: -1px;overflow: hidden;padding: 0;position: absolute;width: 1px;}#sk-container-id-3 div.sk-estimator {font-family: monospace;background-color: #f0f8ff;border: 1px dotted black;border-radius: 0.25em;box-sizing: border-box;margin-bottom: 0.5em;}#sk-container-id-3 div.sk-estimator:hover {background-color: #d4ebff;}#sk-container-id-3 div.sk-parallel-item::after {content: \"\";width: 100%;border-bottom: 1px solid gray;flex-grow: 1;}#sk-container-id-3 div.sk-label:hover label.sk-toggleable__label {background-color: #d4ebff;}#sk-container-id-3 div.sk-serial::before {content: \"\";position: absolute;border-left: 1px solid gray;box-sizing: border-box;top: 0;bottom: 0;left: 50%;z-index: 0;}#sk-container-id-3 div.sk-serial {display: flex;flex-direction: column;align-items: center;background-color: white;padding-right: 0.2em;padding-left: 0.2em;position: relative;}#sk-container-id-3 div.sk-item {position: relative;z-index: 1;}#sk-container-id-3 div.sk-parallel {display: flex;align-items: stretch;justify-content: center;background-color: white;position: relative;}#sk-container-id-3 div.sk-item::before, #sk-container-id-3 div.sk-parallel-item::before {content: \"\";position: absolute;border-left: 1px solid gray;box-sizing: border-box;top: 0;bottom: 0;left: 50%;z-index: -1;}#sk-container-id-3 div.sk-parallel-item {display: flex;flex-direction: column;z-index: 1;position: relative;background-color: white;}#sk-container-id-3 div.sk-parallel-item:first-child::after {align-self: flex-end;width: 50%;}#sk-container-id-3 div.sk-parallel-item:last-child::after {align-self: flex-start;width: 50%;}#sk-container-id-3 div.sk-parallel-item:only-child::after {width: 0;}#sk-container-id-3 div.sk-dashed-wrapped {border: 1px dashed gray;margin: 0 0.4em 0.5em 0.4em;box-sizing: border-box;padding-bottom: 0.4em;background-color: white;}#sk-container-id-3 div.sk-label label {font-family: monospace;font-weight: bold;display: inline-block;line-height: 1.2em;}#sk-container-id-3 div.sk-label-container {text-align: center;}#sk-container-id-3 div.sk-container {/* jupyter's `normalize.less` sets `[hidden] { display: none; }` but bootstrap.min.css set `[hidden] { display: none !important; }` so we also need the `!important` here to be able to override the default hidden behavior on the sphinx rendered scikit-learn.org. See: https://github.com/scikit-learn/scikit-learn/issues/21755 */display: inline-block !important;position: relative;}#sk-container-id-3 div.sk-text-repr-fallback {display: none;}</style><div id=\"sk-container-id-3\" class=\"sk-top-container\"><div class=\"sk-text-repr-fallback\"><pre>ColumnTransformer(transformers=[(&#x27;onehotencoder&#x27;,\n",
       "                                 OneHotEncoder(handle_unknown=&#x27;ignore&#x27;),\n",
       "                                 &lt;sklearn.compose._column_transformer.make_column_selector object at 0x7f71fbf65f00&gt;),\n",
       "                                (&#x27;standardscaler&#x27;, StandardScaler(),\n",
       "                                 &lt;sklearn.compose._column_transformer.make_column_selector object at 0x7f71fbf66500&gt;)])</pre><b>In a Jupyter environment, please rerun this cell to show the HTML representation or trust the notebook. <br />On GitHub, the HTML representation is unable to render, please try loading this page with nbviewer.org.</b></div><div class=\"sk-container\" hidden><div class=\"sk-item sk-dashed-wrapped\"><div class=\"sk-label-container\"><div class=\"sk-label sk-toggleable\"><input class=\"sk-toggleable__control sk-hidden--visually\" id=\"sk-estimator-id-3\" type=\"checkbox\" ><label for=\"sk-estimator-id-3\" class=\"sk-toggleable__label sk-toggleable__label-arrow\">ColumnTransformer</label><div class=\"sk-toggleable__content\"><pre>ColumnTransformer(transformers=[(&#x27;onehotencoder&#x27;,\n",
       "                                 OneHotEncoder(handle_unknown=&#x27;ignore&#x27;),\n",
       "                                 &lt;sklearn.compose._column_transformer.make_column_selector object at 0x7f71fbf65f00&gt;),\n",
       "                                (&#x27;standardscaler&#x27;, StandardScaler(),\n",
       "                                 &lt;sklearn.compose._column_transformer.make_column_selector object at 0x7f71fbf66500&gt;)])</pre></div></div></div><div class=\"sk-parallel\"><div class=\"sk-parallel-item\"><div class=\"sk-item\"><div class=\"sk-label-container\"><div class=\"sk-label sk-toggleable\"><input class=\"sk-toggleable__control sk-hidden--visually\" id=\"sk-estimator-id-4\" type=\"checkbox\" ><label for=\"sk-estimator-id-4\" class=\"sk-toggleable__label sk-toggleable__label-arrow\">onehotencoder</label><div class=\"sk-toggleable__content\"><pre>&lt;sklearn.compose._column_transformer.make_column_selector object at 0x7f71fbf65f00&gt;</pre></div></div></div><div class=\"sk-serial\"><div class=\"sk-item\"><div class=\"sk-estimator sk-toggleable\"><input class=\"sk-toggleable__control sk-hidden--visually\" id=\"sk-estimator-id-5\" type=\"checkbox\" ><label for=\"sk-estimator-id-5\" class=\"sk-toggleable__label sk-toggleable__label-arrow\">OneHotEncoder</label><div class=\"sk-toggleable__content\"><pre>OneHotEncoder(handle_unknown=&#x27;ignore&#x27;)</pre></div></div></div></div></div></div><div class=\"sk-parallel-item\"><div class=\"sk-item\"><div class=\"sk-label-container\"><div class=\"sk-label sk-toggleable\"><input class=\"sk-toggleable__control sk-hidden--visually\" id=\"sk-estimator-id-6\" type=\"checkbox\" ><label for=\"sk-estimator-id-6\" class=\"sk-toggleable__label sk-toggleable__label-arrow\">standardscaler</label><div class=\"sk-toggleable__content\"><pre>&lt;sklearn.compose._column_transformer.make_column_selector object at 0x7f71fbf66500&gt;</pre></div></div></div><div class=\"sk-serial\"><div class=\"sk-item\"><div class=\"sk-estimator sk-toggleable\"><input class=\"sk-toggleable__control sk-hidden--visually\" id=\"sk-estimator-id-7\" type=\"checkbox\" ><label for=\"sk-estimator-id-7\" class=\"sk-toggleable__label sk-toggleable__label-arrow\">StandardScaler</label><div class=\"sk-toggleable__content\"><pre>StandardScaler()</pre></div></div></div></div></div></div></div></div></div></div>"
      ],
      "text/plain": [
       "ColumnTransformer(transformers=[('onehotencoder',\n",
       "                                 OneHotEncoder(handle_unknown='ignore'),\n",
       "                                 <sklearn.compose._column_transformer.make_column_selector object at 0x7f71fbf65f00>),\n",
       "                                ('standardscaler', StandardScaler(),\n",
       "                                 <sklearn.compose._column_transformer.make_column_selector object at 0x7f71fbf66500>)])"
      ]
     },
     "execution_count": 48,
     "metadata": {},
     "output_type": "execute_result"
    }
   ],
   "source": [
    "cat_columns = make_column_selector(dtype_include=\"object\")\n",
    "num_columns = make_column_selector(dtype_include=\"number\")\n",
    "transformer = make_column_transformer((OneHotEncoder(handle_unknown=\"ignore\"), cat_columns),\n",
    "                                      (StandardScaler(), num_columns))\n",
    "transformer.fit(X_train_reduced)"
   ]
  },
  {
   "cell_type": "code",
   "execution_count": 49,
   "id": "5eca52bf-b7b6-44c7-b17f-602512bbf05d",
   "metadata": {
    "id": "r9NmqfBWiMUJ"
   },
   "outputs": [],
   "source": [
    "X_train_transformed = transformer.transform(X_train_reduced)\n",
    "X_test_transformed = transformer.transform(X_test_reduced)"
   ]
  },
  {
   "cell_type": "code",
   "execution_count": 58,
   "id": "f5263e88-b3a0-4bfd-b0bd-10361865fdef",
   "metadata": {
    "colab": {
     "base_uri": "https://localhost:8080/"
    },
    "id": "RPeSWLX7iegL",
    "outputId": "e1d8a539-d650-4aa7-f32c-cc3ccd559724"
   },
   "outputs": [
    {
     "name": "stderr",
     "output_type": "stream",
     "text": [
      "/home/yeison/anaconda3/envs/data-science1/lib/python3.10/site-packages/sklearn/linear_model/_sag.py:350: ConvergenceWarning: The max_iter was reached which means the coef_ did not converge\n",
      "  warnings.warn(\n",
      "/home/yeison/anaconda3/envs/data-science1/lib/python3.10/site-packages/sklearn/linear_model/_sag.py:350: ConvergenceWarning: The max_iter was reached which means the coef_ did not converge\n",
      "  warnings.warn(\n",
      "/home/yeison/anaconda3/envs/data-science1/lib/python3.10/site-packages/sklearn/linear_model/_sag.py:350: ConvergenceWarning: The max_iter was reached which means the coef_ did not converge\n",
      "  warnings.warn(\n"
     ]
    },
    {
     "name": "stdout",
     "output_type": "stream",
     "text": [
      "CPU times: user 1min 2s, sys: 140 ms, total: 1min 2s\n",
      "Wall time: 25 s\n"
     ]
    },
    {
     "data": {
      "text/html": [
       "<style>#sk-container-id-5 {color: black;background-color: white;}#sk-container-id-5 pre{padding: 0;}#sk-container-id-5 div.sk-toggleable {background-color: white;}#sk-container-id-5 label.sk-toggleable__label {cursor: pointer;display: block;width: 100%;margin-bottom: 0;padding: 0.3em;box-sizing: border-box;text-align: center;}#sk-container-id-5 label.sk-toggleable__label-arrow:before {content: \"▸\";float: left;margin-right: 0.25em;color: #696969;}#sk-container-id-5 label.sk-toggleable__label-arrow:hover:before {color: black;}#sk-container-id-5 div.sk-estimator:hover label.sk-toggleable__label-arrow:before {color: black;}#sk-container-id-5 div.sk-toggleable__content {max-height: 0;max-width: 0;overflow: hidden;text-align: left;background-color: #f0f8ff;}#sk-container-id-5 div.sk-toggleable__content pre {margin: 0.2em;color: black;border-radius: 0.25em;background-color: #f0f8ff;}#sk-container-id-5 input.sk-toggleable__control:checked~div.sk-toggleable__content {max-height: 200px;max-width: 100%;overflow: auto;}#sk-container-id-5 input.sk-toggleable__control:checked~label.sk-toggleable__label-arrow:before {content: \"▾\";}#sk-container-id-5 div.sk-estimator input.sk-toggleable__control:checked~label.sk-toggleable__label {background-color: #d4ebff;}#sk-container-id-5 div.sk-label input.sk-toggleable__control:checked~label.sk-toggleable__label {background-color: #d4ebff;}#sk-container-id-5 input.sk-hidden--visually {border: 0;clip: rect(1px 1px 1px 1px);clip: rect(1px, 1px, 1px, 1px);height: 1px;margin: -1px;overflow: hidden;padding: 0;position: absolute;width: 1px;}#sk-container-id-5 div.sk-estimator {font-family: monospace;background-color: #f0f8ff;border: 1px dotted black;border-radius: 0.25em;box-sizing: border-box;margin-bottom: 0.5em;}#sk-container-id-5 div.sk-estimator:hover {background-color: #d4ebff;}#sk-container-id-5 div.sk-parallel-item::after {content: \"\";width: 100%;border-bottom: 1px solid gray;flex-grow: 1;}#sk-container-id-5 div.sk-label:hover label.sk-toggleable__label {background-color: #d4ebff;}#sk-container-id-5 div.sk-serial::before {content: \"\";position: absolute;border-left: 1px solid gray;box-sizing: border-box;top: 0;bottom: 0;left: 50%;z-index: 0;}#sk-container-id-5 div.sk-serial {display: flex;flex-direction: column;align-items: center;background-color: white;padding-right: 0.2em;padding-left: 0.2em;position: relative;}#sk-container-id-5 div.sk-item {position: relative;z-index: 1;}#sk-container-id-5 div.sk-parallel {display: flex;align-items: stretch;justify-content: center;background-color: white;position: relative;}#sk-container-id-5 div.sk-item::before, #sk-container-id-5 div.sk-parallel-item::before {content: \"\";position: absolute;border-left: 1px solid gray;box-sizing: border-box;top: 0;bottom: 0;left: 50%;z-index: -1;}#sk-container-id-5 div.sk-parallel-item {display: flex;flex-direction: column;z-index: 1;position: relative;background-color: white;}#sk-container-id-5 div.sk-parallel-item:first-child::after {align-self: flex-end;width: 50%;}#sk-container-id-5 div.sk-parallel-item:last-child::after {align-self: flex-start;width: 50%;}#sk-container-id-5 div.sk-parallel-item:only-child::after {width: 0;}#sk-container-id-5 div.sk-dashed-wrapped {border: 1px dashed gray;margin: 0 0.4em 0.5em 0.4em;box-sizing: border-box;padding-bottom: 0.4em;background-color: white;}#sk-container-id-5 div.sk-label label {font-family: monospace;font-weight: bold;display: inline-block;line-height: 1.2em;}#sk-container-id-5 div.sk-label-container {text-align: center;}#sk-container-id-5 div.sk-container {/* jupyter's `normalize.less` sets `[hidden] { display: none; }` but bootstrap.min.css set `[hidden] { display: none !important; }` so we also need the `!important` here to be able to override the default hidden behavior on the sphinx rendered scikit-learn.org. See: https://github.com/scikit-learn/scikit-learn/issues/21755 */display: inline-block !important;position: relative;}#sk-container-id-5 div.sk-text-repr-fallback {display: none;}</style><div id=\"sk-container-id-5\" class=\"sk-top-container\"><div class=\"sk-text-repr-fallback\"><pre>LogisticRegression(C=1, multi_class=&#x27;ovr&#x27;, n_jobs=-1, random_state=42,\n",
       "                   solver=&#x27;sag&#x27;)</pre><b>In a Jupyter environment, please rerun this cell to show the HTML representation or trust the notebook. <br />On GitHub, the HTML representation is unable to render, please try loading this page with nbviewer.org.</b></div><div class=\"sk-container\" hidden><div class=\"sk-item\"><div class=\"sk-estimator sk-toggleable\"><input class=\"sk-toggleable__control sk-hidden--visually\" id=\"sk-estimator-id-9\" type=\"checkbox\" checked><label for=\"sk-estimator-id-9\" class=\"sk-toggleable__label sk-toggleable__label-arrow\">LogisticRegression</label><div class=\"sk-toggleable__content\"><pre>LogisticRegression(C=1, multi_class=&#x27;ovr&#x27;, n_jobs=-1, random_state=42,\n",
       "                   solver=&#x27;sag&#x27;)</pre></div></div></div></div></div>"
      ],
      "text/plain": [
       "LogisticRegression(C=1, multi_class='ovr', n_jobs=-1, random_state=42,\n",
       "                   solver='sag')"
      ]
     },
     "execution_count": 58,
     "metadata": {},
     "output_type": "execute_result"
    }
   ],
   "source": [
    "%%time\n",
    "from sklearn.linear_model import LogisticRegression\n",
    "loreg = LogisticRegression(random_state=42, solver=\"sag\", multi_class=\"ovr\", n_jobs=-1, C=1)\n",
    "loreg.fit(X_train_transformed, y_train_reduced)"
   ]
  },
  {
   "cell_type": "code",
   "execution_count": 59,
   "id": "7f3dfc72-3438-47ce-986f-e142298f125b",
   "metadata": {
    "colab": {
     "base_uri": "https://localhost:8080/"
    },
    "id": "3cNIirpujl1O",
    "outputId": "af4361ea-500a-49b2-aaae-73f7eb97864b"
   },
   "outputs": [
    {
     "name": "stdout",
     "output_type": "stream",
     "text": [
      "              precision    recall  f1-score   support\n",
      "\n",
      "           1       0.61      0.88      0.72     19353\n",
      "           2       0.40      0.28      0.33     11042\n",
      "           3       0.18      0.01      0.02      3168\n",
      "           4       0.67      0.00      0.00      1226\n",
      "           5       0.00      0.00      0.00       569\n",
      "           6       0.35      0.02      0.05       682\n",
      "\n",
      "    accuracy                           0.56     36040\n",
      "   macro avg       0.37      0.20      0.19     36040\n",
      "weighted avg       0.49      0.56      0.49     36040\n",
      "\n"
     ]
    },
    {
     "name": "stderr",
     "output_type": "stream",
     "text": [
      "/home/yeison/anaconda3/envs/data-science1/lib/python3.10/site-packages/sklearn/metrics/_classification.py:1327: UndefinedMetricWarning: Precision and F-score are ill-defined and being set to 0.0 in labels with no predicted samples. Use `zero_division` parameter to control this behavior.\n",
      "  _warn_prf(average, modifier, msg_start, len(result))\n",
      "/home/yeison/anaconda3/envs/data-science1/lib/python3.10/site-packages/sklearn/metrics/_classification.py:1327: UndefinedMetricWarning: Precision and F-score are ill-defined and being set to 0.0 in labels with no predicted samples. Use `zero_division` parameter to control this behavior.\n",
      "  _warn_prf(average, modifier, msg_start, len(result))\n",
      "/home/yeison/anaconda3/envs/data-science1/lib/python3.10/site-packages/sklearn/metrics/_classification.py:1327: UndefinedMetricWarning: Precision and F-score are ill-defined and being set to 0.0 in labels with no predicted samples. Use `zero_division` parameter to control this behavior.\n",
      "  _warn_prf(average, modifier, msg_start, len(result))\n"
     ]
    }
   ],
   "source": [
    "loreg_test_predictions = loreg.predict(X_test_transformed)\n",
    "print(classification_report(y_test_reduced, loreg_test_predictions))"
   ]
  },
  {
   "cell_type": "code",
   "execution_count": 60,
   "id": "706e84b9-f6c6-4207-82c8-9e6e6d345adf",
   "metadata": {},
   "outputs": [
    {
     "name": "stdout",
     "output_type": "stream",
     "text": [
      "              precision    recall  f1-score   support\n",
      "\n",
      "           1       0.62      0.90      0.73     57794\n",
      "           2       0.44      0.32      0.37     32853\n",
      "           3       0.30      0.01      0.03      9892\n",
      "           4       0.92      0.00      0.01      3802\n",
      "           5       0.00      0.00      0.00      1689\n",
      "           6       0.29      0.02      0.03      2087\n",
      "\n",
      "    accuracy                           0.58    108117\n",
      "   macro avg       0.43      0.21      0.19    108117\n",
      "weighted avg       0.53      0.58      0.51    108117\n",
      "\n"
     ]
    },
    {
     "name": "stderr",
     "output_type": "stream",
     "text": [
      "/home/yeison/anaconda3/envs/data-science1/lib/python3.10/site-packages/sklearn/metrics/_classification.py:1327: UndefinedMetricWarning: Precision and F-score are ill-defined and being set to 0.0 in labels with no predicted samples. Use `zero_division` parameter to control this behavior.\n",
      "  _warn_prf(average, modifier, msg_start, len(result))\n",
      "/home/yeison/anaconda3/envs/data-science1/lib/python3.10/site-packages/sklearn/metrics/_classification.py:1327: UndefinedMetricWarning: Precision and F-score are ill-defined and being set to 0.0 in labels with no predicted samples. Use `zero_division` parameter to control this behavior.\n",
      "  _warn_prf(average, modifier, msg_start, len(result))\n",
      "/home/yeison/anaconda3/envs/data-science1/lib/python3.10/site-packages/sklearn/metrics/_classification.py:1327: UndefinedMetricWarning: Precision and F-score are ill-defined and being set to 0.0 in labels with no predicted samples. Use `zero_division` parameter to control this behavior.\n",
      "  _warn_prf(average, modifier, msg_start, len(result))\n"
     ]
    }
   ],
   "source": [
    "loreg_train_predictions = loreg.predict(X_train_transformed)\n",
    "print(classification_report(y_train_reduced, loreg_train_predictions))"
   ]
  }
 ],
 "metadata": {
  "kernelspec": {
   "display_name": "Python 3 (ipykernel)",
   "language": "python",
   "name": "python3"
  },
  "language_info": {
   "codemirror_mode": {
    "name": "ipython",
    "version": 3
   },
   "file_extension": ".py",
   "mimetype": "text/x-python",
   "name": "python",
   "nbconvert_exporter": "python",
   "pygments_lexer": "ipython3",
   "version": "3.10.4"
  }
 },
 "nbformat": 4,
 "nbformat_minor": 5
}
