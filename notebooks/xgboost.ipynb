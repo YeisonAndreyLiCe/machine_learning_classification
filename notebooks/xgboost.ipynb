{
 "cells": [
  {
   "cell_type": "markdown",
   "id": "04232a51-b4bc-4386-a7e5-72bab9f80e09",
   "metadata": {},
   "source": [
    "The preprocessing process and of the data can be found in the *'preprocessing.ipynb'* notebook\n",
    "after done the process in the mentioned notebook the next model was implemented."
   ]
  },
  {
   "cell_type": "code",
   "execution_count": 31,
   "id": "f896302d-d59a-4d73-9a62-e28b20184c69",
   "metadata": {},
   "outputs": [
    {
     "name": "stdout",
     "output_type": "stream",
     "text": [
      "CPU times: user 22 µs, sys: 1 µs, total: 23 µs\n",
      "Wall time: 30.3 µs\n"
     ]
    }
   ],
   "source": [
    "%%time \n",
    "#%conda install -c conda-forge xgboost\n",
    "from xgboost import XGBClassifier"
   ]
  },
  {
   "cell_type": "code",
   "execution_count": null,
   "id": "55aa3cee-d2df-40b1-921e-bb726bc3e6ae",
   "metadata": {
    "tags": []
   },
   "outputs": [],
   "source": [
    "%%time\n",
    "xboost = XGBClassifier(n_stimators=100, random_state=42)\n",
    "xboost.fit(X_train_procesed, y_train)"
   ]
  },
  {
   "cell_type": "code",
   "execution_count": 33,
   "id": "a4b1fd9d-26f4-4371-9f95-85f53c2cc48a",
   "metadata": {
    "tags": []
   },
   "outputs": [
    {
     "data": {
      "text/plain": [
       "0.5469617092119867"
      ]
     },
     "execution_count": 33,
     "metadata": {},
     "output_type": "execute_result"
    }
   ],
   "source": [
    "xboost.score(X_test_processed, y_test)"
   ]
  },
  {
   "cell_type": "code",
   "execution_count": 34,
   "id": "80d63f57-0d12-47b2-adb5-76c012f37459",
   "metadata": {},
   "outputs": [
    {
     "data": {
      "text/plain": [
       "0.5724084110123564"
      ]
     },
     "execution_count": 34,
     "metadata": {},
     "output_type": "execute_result"
    }
   ],
   "source": [
    "xboost.score(X_train_procesed, y_train)"
   ]
  }
 ],
 "metadata": {
  "kernelspec": {
   "display_name": "Python 3 (ipykernel)",
   "language": "python",
   "name": "python3"
  },
  "language_info": {
   "codemirror_mode": {
    "name": "ipython",
    "version": 3
   },
   "file_extension": ".py",
   "mimetype": "text/x-python",
   "name": "python",
   "nbconvert_exporter": "python",
   "pygments_lexer": "ipython3",
   "version": "3.10.4"
  }
 },
 "nbformat": 4,
 "nbformat_minor": 5
}
